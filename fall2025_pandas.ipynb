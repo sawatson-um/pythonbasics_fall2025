{
 "cells": [
  {
   "cell_type": "markdown",
   "id": "f814b711",
   "metadata": {},
   "source": [
    "https://librarycarpentry.github.io/lc-python-intro/instructor/libraries.html\n",
    "\n",
    "https://librarycarpentry.github.io/lc-python-intro/instructor/pandas.html\n",
    "\n",
    "https://librarycarpentry.github.io/lc-python-intro/instructor/looping-data-sets.html\n",
    "\n",
    "https://librarycarpentry.github.io/lc-python-intro/instructor/data-visualisation.html"
   ]
  },
  {
   "cell_type": "code",
   "execution_count": 49,
   "id": "15eda5cd",
   "metadata": {},
   "outputs": [
    {
     "name": "stdout",
     "output_type": "stream",
     "text": [
      "Requirement already satisfied: pandas in c:\\users\\swatson\\appdata\\local\\programs\\python\\python313\\lib\\site-packages (2.3.2)\n",
      "Requirement already satisfied: ipykernel in c:\\users\\swatson\\appdata\\roaming\\python\\python313\\site-packages (6.30.0)\n",
      "Requirement already satisfied: plotly in c:\\users\\swatson\\appdata\\local\\programs\\python\\python313\\lib\\site-packages (6.3.1)\n",
      "Requirement already satisfied: numpy>=1.26.0 in c:\\users\\swatson\\appdata\\local\\programs\\python\\python313\\lib\\site-packages (from pandas) (2.2.6)\n",
      "Requirement already satisfied: python-dateutil>=2.8.2 in c:\\users\\swatson\\appdata\\roaming\\python\\python313\\site-packages (from pandas) (2.9.0.post0)\n",
      "Requirement already satisfied: pytz>=2020.1 in c:\\users\\swatson\\appdata\\local\\programs\\python\\python313\\lib\\site-packages (from pandas) (2025.2)\n",
      "Requirement already satisfied: tzdata>=2022.7 in c:\\users\\swatson\\appdata\\local\\programs\\python\\python313\\lib\\site-packages (from pandas) (2025.2)\n",
      "Requirement already satisfied: comm>=0.1.1 in c:\\users\\swatson\\appdata\\roaming\\python\\python313\\site-packages (from ipykernel) (0.2.3)\n",
      "Requirement already satisfied: debugpy>=1.6.5 in c:\\users\\swatson\\appdata\\roaming\\python\\python313\\site-packages (from ipykernel) (1.8.15)\n",
      "Requirement already satisfied: ipython>=7.23.1 in c:\\users\\swatson\\appdata\\roaming\\python\\python313\\site-packages (from ipykernel) (9.4.0)\n",
      "Requirement already satisfied: jupyter-client>=8.0.0 in c:\\users\\swatson\\appdata\\roaming\\python\\python313\\site-packages (from ipykernel) (8.6.3)\n",
      "Requirement already satisfied: jupyter-core!=5.0.*,>=4.12 in c:\\users\\swatson\\appdata\\roaming\\python\\python313\\site-packages (from ipykernel) (5.8.1)\n",
      "Requirement already satisfied: matplotlib-inline>=0.1 in c:\\users\\swatson\\appdata\\roaming\\python\\python313\\site-packages (from ipykernel) (0.1.7)\n",
      "Requirement already satisfied: nest-asyncio>=1.4 in c:\\users\\swatson\\appdata\\roaming\\python\\python313\\site-packages (from ipykernel) (1.6.0)\n",
      "Requirement already satisfied: packaging>=22 in c:\\users\\swatson\\appdata\\roaming\\python\\python313\\site-packages (from ipykernel) (25.0)\n",
      "Requirement already satisfied: psutil>=5.7 in c:\\users\\swatson\\appdata\\roaming\\python\\python313\\site-packages (from ipykernel) (7.0.0)\n",
      "Requirement already satisfied: pyzmq>=25 in c:\\users\\swatson\\appdata\\roaming\\python\\python313\\site-packages (from ipykernel) (27.0.0)\n",
      "Requirement already satisfied: tornado>=6.2 in c:\\users\\swatson\\appdata\\roaming\\python\\python313\\site-packages (from ipykernel) (6.5.1)\n",
      "Requirement already satisfied: traitlets>=5.4.0 in c:\\users\\swatson\\appdata\\roaming\\python\\python313\\site-packages (from ipykernel) (5.14.3)\n",
      "Requirement already satisfied: narwhals>=1.15.1 in c:\\users\\swatson\\appdata\\local\\programs\\python\\python313\\lib\\site-packages (from plotly) (2.2.0)\n",
      "Requirement already satisfied: colorama in c:\\users\\swatson\\appdata\\roaming\\python\\python313\\site-packages (from ipython>=7.23.1->ipykernel) (0.4.6)\n",
      "Requirement already satisfied: decorator in c:\\users\\swatson\\appdata\\roaming\\python\\python313\\site-packages (from ipython>=7.23.1->ipykernel) (5.2.1)\n",
      "Requirement already satisfied: ipython-pygments-lexers in c:\\users\\swatson\\appdata\\roaming\\python\\python313\\site-packages (from ipython>=7.23.1->ipykernel) (1.1.1)\n",
      "Requirement already satisfied: jedi>=0.16 in c:\\users\\swatson\\appdata\\roaming\\python\\python313\\site-packages (from ipython>=7.23.1->ipykernel) (0.19.2)\n",
      "Requirement already satisfied: prompt_toolkit<3.1.0,>=3.0.41 in c:\\users\\swatson\\appdata\\roaming\\python\\python313\\site-packages (from ipython>=7.23.1->ipykernel) (3.0.51)\n",
      "Requirement already satisfied: pygments>=2.4.0 in c:\\users\\swatson\\appdata\\roaming\\python\\python313\\site-packages (from ipython>=7.23.1->ipykernel) (2.19.2)\n",
      "Requirement already satisfied: stack_data in c:\\users\\swatson\\appdata\\roaming\\python\\python313\\site-packages (from ipython>=7.23.1->ipykernel) (0.6.3)\n",
      "Requirement already satisfied: wcwidth in c:\\users\\swatson\\appdata\\roaming\\python\\python313\\site-packages (from prompt_toolkit<3.1.0,>=3.0.41->ipython>=7.23.1->ipykernel) (0.2.13)\n",
      "Requirement already satisfied: parso<0.9.0,>=0.8.4 in c:\\users\\swatson\\appdata\\roaming\\python\\python313\\site-packages (from jedi>=0.16->ipython>=7.23.1->ipykernel) (0.8.4)\n",
      "Requirement already satisfied: platformdirs>=2.5 in c:\\users\\swatson\\appdata\\roaming\\python\\python313\\site-packages (from jupyter-core!=5.0.*,>=4.12->ipykernel) (4.3.8)\n",
      "Requirement already satisfied: pywin32>=300 in c:\\users\\swatson\\appdata\\roaming\\python\\python313\\site-packages (from jupyter-core!=5.0.*,>=4.12->ipykernel) (311)\n",
      "Requirement already satisfied: six>=1.5 in c:\\users\\swatson\\appdata\\roaming\\python\\python313\\site-packages (from python-dateutil>=2.8.2->pandas) (1.17.0)\n",
      "Requirement already satisfied: executing>=1.2.0 in c:\\users\\swatson\\appdata\\roaming\\python\\python313\\site-packages (from stack_data->ipython>=7.23.1->ipykernel) (2.2.0)\n",
      "Requirement already satisfied: asttokens>=2.1.0 in c:\\users\\swatson\\appdata\\roaming\\python\\python313\\site-packages (from stack_data->ipython>=7.23.1->ipykernel) (3.0.0)\n",
      "Requirement already satisfied: pure-eval in c:\\users\\swatson\\appdata\\roaming\\python\\python313\\site-packages (from stack_data->ipython>=7.23.1->ipykernel) (0.2.3)\n",
      "Note: you may need to restart the kernel to use updated packages.\n"
     ]
    }
   ],
   "source": [
    "pip install pandas ipykernel plotly"
   ]
  },
  {
   "cell_type": "code",
   "execution_count": 1,
   "id": "0f3d5761",
   "metadata": {},
   "outputs": [],
   "source": [
    "import pandas as pd\n",
    "import plotly.express as px\n",
    "import glob\n"
   ]
  },
  {
   "cell_type": "code",
   "execution_count": 2,
   "id": "929c6a23",
   "metadata": {},
   "outputs": [
    {
     "name": "stdout",
     "output_type": "stream",
     "text": [
      "                   branch                  address     city  zip code  \\\n",
      "0             Albany Park     5150 N. Kimball Ave.  Chicago   60625.0   \n",
      "1                 Altgeld    13281 S. Corliss Ave.  Chicago   60827.0   \n",
      "2          Archer Heights      5055 S. Archer Ave.  Chicago   60632.0   \n",
      "3                  Austin        5615 W. Race Ave.  Chicago   60644.0   \n",
      "4           Austin-Irving  6100 W. Irving Park Rd.  Chicago   60634.0   \n",
      "..                    ...                      ...      ...       ...   \n",
      "75           West Pullman         830 W. 119th St.  Chicago   60643.0   \n",
      "76              West Town     1625 W. Chicago Ave.  Chicago   60622.0   \n",
      "77  Whitney M. Young, Jr.         7901 S. King Dr.  Chicago   60619.0   \n",
      "78       Woodson Regional      9525 S. Halsted St.  Chicago   60628.0   \n",
      "79     Wrightwood-Ashburn      8530 S. Kedzie Ave.  Chicago   60652.0   \n",
      "\n",
      "    january  february  march  april    may   june   july  august  september  \\\n",
      "0      8427      7023   9702   9344   8865  11650  11778   11306      10466   \n",
      "1      1258       708    854    804    816    870    713     480        702   \n",
      "2      8104      6899   9329   9124   7472   8314   8116    9177       9033   \n",
      "3      1755      1316   1942   2200   2133   2359   2080    2405       2417   \n",
      "4     12593     11791  14807  14382  11754  14402  14605   15164      14306   \n",
      "..      ...       ...    ...    ...    ...    ...    ...     ...        ...   \n",
      "75     3312      2713   3495   3550   3010   2968   3844    3811       3209   \n",
      "76     9030      7727  10450  10607  10139  10410  10601   11311      11084   \n",
      "77     2588      2033   3099   3087   3005   2911   3123    3644       3547   \n",
      "78    10564      8874  10948   9299   9025  10020  10366   10892      10901   \n",
      "79     3062      2780   3334   3279   3036   3801   4600    3953       3536   \n",
      "\n",
      "    october  november  december     ytd  \n",
      "0     10997     10567      9934  120059  \n",
      "1       927       787       692    9611  \n",
      "2      9709      8809      7865  101951  \n",
      "3      2571      2233      2116   25527  \n",
      "4     15357     14069     12404  165634  \n",
      "..      ...       ...       ...     ...  \n",
      "75     3923      3162      3147   40144  \n",
      "76    10657     10797      9275  122088  \n",
      "77     3848      3324      3190   37399  \n",
      "78    13272     11421      9474  125056  \n",
      "79     4093      3583      3200   42257  \n",
      "\n",
      "[80 rows x 17 columns]\n"
     ]
    }
   ],
   "source": [
    "df = pd.read_csv(r\"C:\\Users\\swatson\\Desktop\\data\\2011_circ.csv\")\n",
    "print(df)"
   ]
  },
  {
   "cell_type": "code",
   "execution_count": 3,
   "id": "b9c8348d",
   "metadata": {},
   "outputs": [
    {
     "data": {
      "text/html": [
       "<div>\n",
       "<style scoped>\n",
       "    .dataframe tbody tr th:only-of-type {\n",
       "        vertical-align: middle;\n",
       "    }\n",
       "\n",
       "    .dataframe tbody tr th {\n",
       "        vertical-align: top;\n",
       "    }\n",
       "\n",
       "    .dataframe thead th {\n",
       "        text-align: right;\n",
       "    }\n",
       "</style>\n",
       "<table border=\"1\" class=\"dataframe\">\n",
       "  <thead>\n",
       "    <tr style=\"text-align: right;\">\n",
       "      <th></th>\n",
       "      <th>branch</th>\n",
       "      <th>address</th>\n",
       "      <th>city</th>\n",
       "      <th>zip code</th>\n",
       "      <th>january</th>\n",
       "      <th>february</th>\n",
       "      <th>march</th>\n",
       "      <th>april</th>\n",
       "      <th>may</th>\n",
       "      <th>june</th>\n",
       "      <th>july</th>\n",
       "      <th>august</th>\n",
       "      <th>september</th>\n",
       "      <th>october</th>\n",
       "      <th>november</th>\n",
       "      <th>december</th>\n",
       "      <th>ytd</th>\n",
       "    </tr>\n",
       "  </thead>\n",
       "  <tbody>\n",
       "    <tr>\n",
       "      <th>0</th>\n",
       "      <td>Albany Park</td>\n",
       "      <td>5150 N. Kimball Ave.</td>\n",
       "      <td>Chicago</td>\n",
       "      <td>60625.0</td>\n",
       "      <td>8427</td>\n",
       "      <td>7023</td>\n",
       "      <td>9702</td>\n",
       "      <td>9344</td>\n",
       "      <td>8865</td>\n",
       "      <td>11650</td>\n",
       "      <td>11778</td>\n",
       "      <td>11306</td>\n",
       "      <td>10466</td>\n",
       "      <td>10997</td>\n",
       "      <td>10567</td>\n",
       "      <td>9934</td>\n",
       "      <td>120059</td>\n",
       "    </tr>\n",
       "    <tr>\n",
       "      <th>1</th>\n",
       "      <td>Altgeld</td>\n",
       "      <td>13281 S. Corliss Ave.</td>\n",
       "      <td>Chicago</td>\n",
       "      <td>60827.0</td>\n",
       "      <td>1258</td>\n",
       "      <td>708</td>\n",
       "      <td>854</td>\n",
       "      <td>804</td>\n",
       "      <td>816</td>\n",
       "      <td>870</td>\n",
       "      <td>713</td>\n",
       "      <td>480</td>\n",
       "      <td>702</td>\n",
       "      <td>927</td>\n",
       "      <td>787</td>\n",
       "      <td>692</td>\n",
       "      <td>9611</td>\n",
       "    </tr>\n",
       "    <tr>\n",
       "      <th>2</th>\n",
       "      <td>Archer Heights</td>\n",
       "      <td>5055 S. Archer Ave.</td>\n",
       "      <td>Chicago</td>\n",
       "      <td>60632.0</td>\n",
       "      <td>8104</td>\n",
       "      <td>6899</td>\n",
       "      <td>9329</td>\n",
       "      <td>9124</td>\n",
       "      <td>7472</td>\n",
       "      <td>8314</td>\n",
       "      <td>8116</td>\n",
       "      <td>9177</td>\n",
       "      <td>9033</td>\n",
       "      <td>9709</td>\n",
       "      <td>8809</td>\n",
       "      <td>7865</td>\n",
       "      <td>101951</td>\n",
       "    </tr>\n",
       "    <tr>\n",
       "      <th>3</th>\n",
       "      <td>Austin</td>\n",
       "      <td>5615 W. Race Ave.</td>\n",
       "      <td>Chicago</td>\n",
       "      <td>60644.0</td>\n",
       "      <td>1755</td>\n",
       "      <td>1316</td>\n",
       "      <td>1942</td>\n",
       "      <td>2200</td>\n",
       "      <td>2133</td>\n",
       "      <td>2359</td>\n",
       "      <td>2080</td>\n",
       "      <td>2405</td>\n",
       "      <td>2417</td>\n",
       "      <td>2571</td>\n",
       "      <td>2233</td>\n",
       "      <td>2116</td>\n",
       "      <td>25527</td>\n",
       "    </tr>\n",
       "    <tr>\n",
       "      <th>4</th>\n",
       "      <td>Austin-Irving</td>\n",
       "      <td>6100 W. Irving Park Rd.</td>\n",
       "      <td>Chicago</td>\n",
       "      <td>60634.0</td>\n",
       "      <td>12593</td>\n",
       "      <td>11791</td>\n",
       "      <td>14807</td>\n",
       "      <td>14382</td>\n",
       "      <td>11754</td>\n",
       "      <td>14402</td>\n",
       "      <td>14605</td>\n",
       "      <td>15164</td>\n",
       "      <td>14306</td>\n",
       "      <td>15357</td>\n",
       "      <td>14069</td>\n",
       "      <td>12404</td>\n",
       "      <td>165634</td>\n",
       "    </tr>\n",
       "  </tbody>\n",
       "</table>\n",
       "</div>"
      ],
      "text/plain": [
       "           branch                  address     city  zip code  january  \\\n",
       "0     Albany Park     5150 N. Kimball Ave.  Chicago   60625.0     8427   \n",
       "1         Altgeld    13281 S. Corliss Ave.  Chicago   60827.0     1258   \n",
       "2  Archer Heights      5055 S. Archer Ave.  Chicago   60632.0     8104   \n",
       "3          Austin        5615 W. Race Ave.  Chicago   60644.0     1755   \n",
       "4   Austin-Irving  6100 W. Irving Park Rd.  Chicago   60634.0    12593   \n",
       "\n",
       "   february  march  april    may   june   july  august  september  october  \\\n",
       "0      7023   9702   9344   8865  11650  11778   11306      10466    10997   \n",
       "1       708    854    804    816    870    713     480        702      927   \n",
       "2      6899   9329   9124   7472   8314   8116    9177       9033     9709   \n",
       "3      1316   1942   2200   2133   2359   2080    2405       2417     2571   \n",
       "4     11791  14807  14382  11754  14402  14605   15164      14306    15357   \n",
       "\n",
       "   november  december     ytd  \n",
       "0     10567      9934  120059  \n",
       "1       787       692    9611  \n",
       "2      8809      7865  101951  \n",
       "3      2233      2116   25527  \n",
       "4     14069     12404  165634  "
      ]
     },
     "execution_count": 3,
     "metadata": {},
     "output_type": "execute_result"
    }
   ],
   "source": [
    "df_2011 = pd.read_csv(r\"C:\\Users\\swatson\\Desktop\\data\\2011_circ.csv\")\n",
    "df_2011.head()"
   ]
  },
  {
   "cell_type": "code",
   "execution_count": 4,
   "id": "ecc7284e",
   "metadata": {},
   "outputs": [
    {
     "name": "stdout",
     "output_type": "stream",
     "text": [
      "<class 'pandas.core.frame.DataFrame'>\n",
      "RangeIndex: 80 entries, 0 to 79\n",
      "Data columns (total 17 columns):\n",
      " #   Column     Non-Null Count  Dtype  \n",
      "---  ------     --------------  -----  \n",
      " 0   branch     80 non-null     object \n",
      " 1   address    80 non-null     object \n",
      " 2   city       80 non-null     object \n",
      " 3   zip code   80 non-null     float64\n",
      " 4   january    80 non-null     int64  \n",
      " 5   february   80 non-null     int64  \n",
      " 6   march      80 non-null     int64  \n",
      " 7   april      80 non-null     int64  \n",
      " 8   may        80 non-null     int64  \n",
      " 9   june       80 non-null     int64  \n",
      " 10  july       80 non-null     int64  \n",
      " 11  august     80 non-null     int64  \n",
      " 12  september  80 non-null     int64  \n",
      " 13  october    80 non-null     int64  \n",
      " 14  november   80 non-null     int64  \n",
      " 15  december   80 non-null     int64  \n",
      " 16  ytd        80 non-null     int64  \n",
      "dtypes: float64(1), int64(13), object(3)\n",
      "memory usage: 10.8+ KB\n"
     ]
    }
   ],
   "source": [
    "df_2011.info()"
   ]
  },
  {
   "cell_type": "code",
   "execution_count": 5,
   "id": "5a13f24e",
   "metadata": {},
   "outputs": [
    {
     "name": "stdout",
     "output_type": "stream",
     "text": [
      "Index(['branch', 'address', 'city', 'zip code', 'january', 'february', 'march',\n",
      "       'april', 'may', 'june', 'july', 'august', 'september', 'october',\n",
      "       'november', 'december', 'ytd'],\n",
      "      dtype='object')\n"
     ]
    }
   ],
   "source": [
    "print(df_2011.columns)"
   ]
  },
  {
   "cell_type": "code",
   "execution_count": 6,
   "id": "f14059fc",
   "metadata": {},
   "outputs": [
    {
     "data": {
      "text/html": [
       "<div>\n",
       "<style scoped>\n",
       "    .dataframe tbody tr th:only-of-type {\n",
       "        vertical-align: middle;\n",
       "    }\n",
       "\n",
       "    .dataframe tbody tr th {\n",
       "        vertical-align: top;\n",
       "    }\n",
       "\n",
       "    .dataframe thead th {\n",
       "        text-align: right;\n",
       "    }\n",
       "</style>\n",
       "<table border=\"1\" class=\"dataframe\">\n",
       "  <thead>\n",
       "    <tr style=\"text-align: right;\">\n",
       "      <th></th>\n",
       "      <th>zip code</th>\n",
       "      <th>january</th>\n",
       "      <th>february</th>\n",
       "      <th>march</th>\n",
       "      <th>april</th>\n",
       "      <th>may</th>\n",
       "      <th>june</th>\n",
       "      <th>july</th>\n",
       "      <th>august</th>\n",
       "      <th>september</th>\n",
       "      <th>october</th>\n",
       "      <th>november</th>\n",
       "      <th>december</th>\n",
       "      <th>ytd</th>\n",
       "    </tr>\n",
       "  </thead>\n",
       "  <tbody>\n",
       "    <tr>\n",
       "      <th>count</th>\n",
       "      <td>80.000000</td>\n",
       "      <td>80.000000</td>\n",
       "      <td>80.000000</td>\n",
       "      <td>80.00000</td>\n",
       "      <td>80.000000</td>\n",
       "      <td>80.000000</td>\n",
       "      <td>80.000000</td>\n",
       "      <td>80.000000</td>\n",
       "      <td>80.000000</td>\n",
       "      <td>80.000000</td>\n",
       "      <td>80.000000</td>\n",
       "      <td>80.000000</td>\n",
       "      <td>80.00000</td>\n",
       "      <td>80.000000</td>\n",
       "    </tr>\n",
       "    <tr>\n",
       "      <th>mean</th>\n",
       "      <td>60632.675000</td>\n",
       "      <td>7216.175000</td>\n",
       "      <td>6247.162500</td>\n",
       "      <td>8367.36250</td>\n",
       "      <td>8209.225000</td>\n",
       "      <td>7551.725000</td>\n",
       "      <td>8581.125000</td>\n",
       "      <td>8708.887500</td>\n",
       "      <td>8918.550000</td>\n",
       "      <td>8289.975000</td>\n",
       "      <td>9033.437500</td>\n",
       "      <td>8431.112500</td>\n",
       "      <td>7622.73750</td>\n",
       "      <td>97177.475000</td>\n",
       "    </tr>\n",
       "    <tr>\n",
       "      <th>std</th>\n",
       "      <td>28.001254</td>\n",
       "      <td>10334.622299</td>\n",
       "      <td>8815.945718</td>\n",
       "      <td>11667.93342</td>\n",
       "      <td>11241.223544</td>\n",
       "      <td>10532.352671</td>\n",
       "      <td>10862.742953</td>\n",
       "      <td>10794.030461</td>\n",
       "      <td>11301.149192</td>\n",
       "      <td>10576.005552</td>\n",
       "      <td>10826.494853</td>\n",
       "      <td>10491.875418</td>\n",
       "      <td>9194.44616</td>\n",
       "      <td>125678.282307</td>\n",
       "    </tr>\n",
       "    <tr>\n",
       "      <th>min</th>\n",
       "      <td>60605.000000</td>\n",
       "      <td>0.000000</td>\n",
       "      <td>0.000000</td>\n",
       "      <td>0.00000</td>\n",
       "      <td>0.000000</td>\n",
       "      <td>0.000000</td>\n",
       "      <td>0.000000</td>\n",
       "      <td>0.000000</td>\n",
       "      <td>2.000000</td>\n",
       "      <td>0.000000</td>\n",
       "      <td>0.000000</td>\n",
       "      <td>0.000000</td>\n",
       "      <td>0.00000</td>\n",
       "      <td>9218.000000</td>\n",
       "    </tr>\n",
       "    <tr>\n",
       "      <th>25%</th>\n",
       "      <td>60617.000000</td>\n",
       "      <td>2388.500000</td>\n",
       "      <td>1979.250000</td>\n",
       "      <td>2708.50000</td>\n",
       "      <td>2864.250000</td>\n",
       "      <td>2678.500000</td>\n",
       "      <td>2953.750000</td>\n",
       "      <td>3344.750000</td>\n",
       "      <td>3310.500000</td>\n",
       "      <td>3196.750000</td>\n",
       "      <td>3747.000000</td>\n",
       "      <td>3168.000000</td>\n",
       "      <td>3049.75000</td>\n",
       "      <td>37119.250000</td>\n",
       "    </tr>\n",
       "    <tr>\n",
       "      <th>50%</th>\n",
       "      <td>60629.000000</td>\n",
       "      <td>5814.500000</td>\n",
       "      <td>5200.000000</td>\n",
       "      <td>6468.50000</td>\n",
       "      <td>6286.000000</td>\n",
       "      <td>5733.000000</td>\n",
       "      <td>6764.500000</td>\n",
       "      <td>6194.000000</td>\n",
       "      <td>6938.500000</td>\n",
       "      <td>6599.500000</td>\n",
       "      <td>7219.500000</td>\n",
       "      <td>6766.000000</td>\n",
       "      <td>5797.00000</td>\n",
       "      <td>73529.000000</td>\n",
       "    </tr>\n",
       "    <tr>\n",
       "      <th>75%</th>\n",
       "      <td>60643.000000</td>\n",
       "      <td>9021.000000</td>\n",
       "      <td>8000.000000</td>\n",
       "      <td>10737.00000</td>\n",
       "      <td>10794.250000</td>\n",
       "      <td>9406.250000</td>\n",
       "      <td>10852.750000</td>\n",
       "      <td>11168.000000</td>\n",
       "      <td>11291.750000</td>\n",
       "      <td>10520.000000</td>\n",
       "      <td>11347.500000</td>\n",
       "      <td>10767.000000</td>\n",
       "      <td>9775.00000</td>\n",
       "      <td>124195.750000</td>\n",
       "    </tr>\n",
       "    <tr>\n",
       "      <th>max</th>\n",
       "      <td>60827.000000</td>\n",
       "      <td>79210.000000</td>\n",
       "      <td>67574.000000</td>\n",
       "      <td>89122.00000</td>\n",
       "      <td>88527.000000</td>\n",
       "      <td>82581.000000</td>\n",
       "      <td>82100.000000</td>\n",
       "      <td>80219.000000</td>\n",
       "      <td>85193.000000</td>\n",
       "      <td>81400.000000</td>\n",
       "      <td>82236.000000</td>\n",
       "      <td>79702.000000</td>\n",
       "      <td>68856.00000</td>\n",
       "      <td>966720.000000</td>\n",
       "    </tr>\n",
       "  </tbody>\n",
       "</table>\n",
       "</div>"
      ],
      "text/plain": [
       "           zip code       january      february        march         april  \\\n",
       "count     80.000000     80.000000     80.000000     80.00000     80.000000   \n",
       "mean   60632.675000   7216.175000   6247.162500   8367.36250   8209.225000   \n",
       "std       28.001254  10334.622299   8815.945718  11667.93342  11241.223544   \n",
       "min    60605.000000      0.000000      0.000000      0.00000      0.000000   \n",
       "25%    60617.000000   2388.500000   1979.250000   2708.50000   2864.250000   \n",
       "50%    60629.000000   5814.500000   5200.000000   6468.50000   6286.000000   \n",
       "75%    60643.000000   9021.000000   8000.000000  10737.00000  10794.250000   \n",
       "max    60827.000000  79210.000000  67574.000000  89122.00000  88527.000000   \n",
       "\n",
       "                may          june          july        august     september  \\\n",
       "count     80.000000     80.000000     80.000000     80.000000     80.000000   \n",
       "mean    7551.725000   8581.125000   8708.887500   8918.550000   8289.975000   \n",
       "std    10532.352671  10862.742953  10794.030461  11301.149192  10576.005552   \n",
       "min        0.000000      0.000000      0.000000      2.000000      0.000000   \n",
       "25%     2678.500000   2953.750000   3344.750000   3310.500000   3196.750000   \n",
       "50%     5733.000000   6764.500000   6194.000000   6938.500000   6599.500000   \n",
       "75%     9406.250000  10852.750000  11168.000000  11291.750000  10520.000000   \n",
       "max    82581.000000  82100.000000  80219.000000  85193.000000  81400.000000   \n",
       "\n",
       "            october      november     december            ytd  \n",
       "count     80.000000     80.000000     80.00000      80.000000  \n",
       "mean    9033.437500   8431.112500   7622.73750   97177.475000  \n",
       "std    10826.494853  10491.875418   9194.44616  125678.282307  \n",
       "min        0.000000      0.000000      0.00000    9218.000000  \n",
       "25%     3747.000000   3168.000000   3049.75000   37119.250000  \n",
       "50%     7219.500000   6766.000000   5797.00000   73529.000000  \n",
       "75%    11347.500000  10767.000000   9775.00000  124195.750000  \n",
       "max    82236.000000  79702.000000  68856.00000  966720.000000  "
      ]
     },
     "execution_count": 6,
     "metadata": {},
     "output_type": "execute_result"
    }
   ],
   "source": [
    "df_2011.describe()"
   ]
  },
  {
   "cell_type": "markdown",
   "id": "3a5246d5",
   "metadata": {},
   "source": [
    "## Looping Over Datasets"
   ]
  },
  {
   "cell_type": "code",
   "execution_count": 7,
   "id": "a2573cd9",
   "metadata": {},
   "outputs": [
    {
     "name": "stdout",
     "output_type": "stream",
     "text": [
      "C:\\Users\\swatson\\Desktop\\data\\2011_circ.csv 966720\n",
      "C:\\Users\\swatson\\Desktop\\data\\2012_circ.csv 937649\n"
     ]
    }
   ],
   "source": [
    "import pandas as pd\n",
    "for filename in [r\"C:\\Users\\swatson\\Desktop\\data\\2011_circ.csv\", r\"C:\\Users\\swatson\\Desktop\\data\\2012_circ.csv\"]:\n",
    "  data = pd.read_csv(filename)\n",
    "  print(filename, data['ytd'].max())"
   ]
  },
  {
   "cell_type": "code",
   "execution_count": 8,
   "id": "63c45977",
   "metadata": {},
   "outputs": [
    {
     "name": "stdout",
     "output_type": "stream",
     "text": [
      "all csv files in data directory: ['C:\\\\Users\\\\swatson\\\\Desktop\\\\data\\\\2011_circ.csv', 'C:\\\\Users\\\\swatson\\\\Desktop\\\\data\\\\2012_circ.csv', 'C:\\\\Users\\\\swatson\\\\Desktop\\\\data\\\\2013_circ.csv', 'C:\\\\Users\\\\swatson\\\\Desktop\\\\data\\\\2014_circ.csv', 'C:\\\\Users\\\\swatson\\\\Desktop\\\\data\\\\2015_circ.csv', 'C:\\\\Users\\\\swatson\\\\Desktop\\\\data\\\\2016_circ.csv', 'C:\\\\Users\\\\swatson\\\\Desktop\\\\data\\\\2017_circ.csv', 'C:\\\\Users\\\\swatson\\\\Desktop\\\\data\\\\2018_circ.csv', 'C:\\\\Users\\\\swatson\\\\Desktop\\\\data\\\\2019_circ.csv', 'C:\\\\Users\\\\swatson\\\\Desktop\\\\data\\\\2020_circ.csv', 'C:\\\\Users\\\\swatson\\\\Desktop\\\\data\\\\2021_circ.csv', 'C:\\\\Users\\\\swatson\\\\Desktop\\\\data\\\\2022_circ.csv']\n"
     ]
    }
   ],
   "source": [
    "import glob\n",
    "print(f\"all csv files in data directory: {glob.glob(r\"C:\\Users\\swatson\\Desktop\\data\\*.csv\")}\")"
   ]
  },
  {
   "cell_type": "code",
   "execution_count": 9,
   "id": "bbff2940",
   "metadata": {},
   "outputs": [
    {
     "name": "stdout",
     "output_type": "stream",
     "text": [
      "C:\\Users\\swatson\\Desktop\\data\\2011_circ.csv 966720\n",
      "C:\\Users\\swatson\\Desktop\\data\\2012_circ.csv 937649\n",
      "C:\\Users\\swatson\\Desktop\\data\\2013_circ.csv 821749\n",
      "C:\\Users\\swatson\\Desktop\\data\\2014_circ.csv 755189\n",
      "C:\\Users\\swatson\\Desktop\\data\\2015_circ.csv 694528\n",
      "C:\\Users\\swatson\\Desktop\\data\\2016_circ.csv 670077\n",
      "C:\\Users\\swatson\\Desktop\\data\\2017_circ.csv 634570\n",
      "C:\\Users\\swatson\\Desktop\\data\\2018_circ.csv 614313\n",
      "C:\\Users\\swatson\\Desktop\\data\\2019_circ.csv 581151\n",
      "C:\\Users\\swatson\\Desktop\\data\\2020_circ.csv 276878\n",
      "C:\\Users\\swatson\\Desktop\\data\\2021_circ.csv 271811\n",
      "C:\\Users\\swatson\\Desktop\\data\\2022_circ.csv 301340\n"
     ]
    }
   ],
   "source": [
    "for csv in sorted(glob.glob(r\"C:\\Users\\swatson\\Desktop\\data\\*.csv\")):\n",
    "    data = pd.read_csv(csv)\n",
    "    print(csv, data['ytd'].max())"
   ]
  },
  {
   "cell_type": "code",
   "execution_count": 10,
   "id": "84f6901b",
   "metadata": {},
   "outputs": [
    {
     "name": "stdout",
     "output_type": "stream",
     "text": [
      "filename: C:\\Users\\swatson\\Desktop\\data\\2011_circ.csv year: 2011\n",
      "filename: C:\\Users\\swatson\\Desktop\\data\\2012_circ.csv year: 2012\n",
      "filename: C:\\Users\\swatson\\Desktop\\data\\2013_circ.csv year: 2013\n",
      "filename: C:\\Users\\swatson\\Desktop\\data\\2014_circ.csv year: 2014\n",
      "filename: C:\\Users\\swatson\\Desktop\\data\\2015_circ.csv year: 2015\n",
      "filename: C:\\Users\\swatson\\Desktop\\data\\2016_circ.csv year: 2016\n",
      "filename: C:\\Users\\swatson\\Desktop\\data\\2017_circ.csv year: 2017\n",
      "filename: C:\\Users\\swatson\\Desktop\\data\\2018_circ.csv year: 2018\n",
      "filename: C:\\Users\\swatson\\Desktop\\data\\2019_circ.csv year: 2019\n",
      "filename: C:\\Users\\swatson\\Desktop\\data\\2020_circ.csv year: 2020\n",
      "filename: C:\\Users\\swatson\\Desktop\\data\\2021_circ.csv year: 2021\n",
      "filename: C:\\Users\\swatson\\Desktop\\data\\2022_circ.csv year: 2022\n"
     ]
    }
   ],
   "source": [
    "for csv in sorted(glob.glob(r\"C:\\Users\\swatson\\Desktop\\data\\*.csv\")):\n",
    "        year = csv[-13:-9] #the 5th to 9th characters in each file match the year\n",
    "        print(f'filename: {csv} year: {year}')"
   ]
  },
  {
   "cell_type": "code",
   "execution_count": 11,
   "id": "b3106018",
   "metadata": {},
   "outputs": [
    {
     "name": "stdout",
     "output_type": "stream",
     "text": [
      "1 Saving 80 rows from C:\\Users\\swatson\\Desktop\\data\\2011_circ.csv\n",
      "2 Saving 79 rows from C:\\Users\\swatson\\Desktop\\data\\2012_circ.csv\n",
      "3 Saving 80 rows from C:\\Users\\swatson\\Desktop\\data\\2013_circ.csv\n",
      "4 Saving 80 rows from C:\\Users\\swatson\\Desktop\\data\\2014_circ.csv\n",
      "5 Saving 80 rows from C:\\Users\\swatson\\Desktop\\data\\2015_circ.csv\n",
      "6 Saving 80 rows from C:\\Users\\swatson\\Desktop\\data\\2016_circ.csv\n",
      "7 Saving 80 rows from C:\\Users\\swatson\\Desktop\\data\\2017_circ.csv\n",
      "8 Saving 80 rows from C:\\Users\\swatson\\Desktop\\data\\2018_circ.csv\n",
      "9 Saving 81 rows from C:\\Users\\swatson\\Desktop\\data\\2019_circ.csv\n",
      "10 Saving 81 rows from C:\\Users\\swatson\\Desktop\\data\\2020_circ.csv\n",
      "11 Saving 81 rows from C:\\Users\\swatson\\Desktop\\data\\2021_circ.csv\n",
      "12 Saving 81 rows from C:\\Users\\swatson\\Desktop\\data\\2022_circ.csv\n",
      "Number of saved DataFrames: 12\n"
     ]
    }
   ],
   "source": [
    "dfs = [] # an empty list to hold all of our DataFrames\n",
    "counter = 1\n",
    "\n",
    "for csv in sorted(glob.glob(r\"C:\\Users\\swatson\\Desktop\\data\\*.csv\")):\n",
    "  year = csv[-13:-9] \n",
    "  data = pd.read_csv(csv) \n",
    "  data['year'] = year \n",
    "  print(f'{counter} Saving {len(data)} rows from {csv}')\n",
    "  dfs.append(data)\n",
    "  counter += 1\n",
    "\n",
    "print(f'Number of saved DataFrames: {len(dfs)}')"
   ]
  },
  {
   "cell_type": "code",
   "execution_count": 12,
   "id": "cefeb196",
   "metadata": {},
   "outputs": [
    {
     "data": {
      "text/plain": [
       "'Number of rows in df: 963'"
      ]
     },
     "execution_count": 12,
     "metadata": {},
     "output_type": "execute_result"
    }
   ],
   "source": [
    "df = pd.concat(dfs, ignore_index=True)\n",
    "f'Number of rows in df: {len(df)}'"
   ]
  },
  {
   "cell_type": "markdown",
   "id": "055633a4",
   "metadata": {},
   "source": [
    "## Using Pandas"
   ]
  },
  {
   "cell_type": "code",
   "execution_count": 13,
   "id": "6907c947",
   "metadata": {},
   "outputs": [
    {
     "data": {
      "text/html": [
       "<div>\n",
       "<style scoped>\n",
       "    .dataframe tbody tr th:only-of-type {\n",
       "        vertical-align: middle;\n",
       "    }\n",
       "\n",
       "    .dataframe tbody tr th {\n",
       "        vertical-align: top;\n",
       "    }\n",
       "\n",
       "    .dataframe thead th {\n",
       "        text-align: right;\n",
       "    }\n",
       "</style>\n",
       "<table border=\"1\" class=\"dataframe\">\n",
       "  <thead>\n",
       "    <tr style=\"text-align: right;\">\n",
       "      <th></th>\n",
       "      <th>branch</th>\n",
       "      <th>address</th>\n",
       "      <th>city</th>\n",
       "      <th>zip code</th>\n",
       "      <th>january</th>\n",
       "      <th>february</th>\n",
       "      <th>march</th>\n",
       "      <th>april</th>\n",
       "      <th>may</th>\n",
       "      <th>june</th>\n",
       "      <th>july</th>\n",
       "      <th>august</th>\n",
       "      <th>september</th>\n",
       "      <th>october</th>\n",
       "      <th>november</th>\n",
       "      <th>december</th>\n",
       "      <th>ytd</th>\n",
       "      <th>year</th>\n",
       "    </tr>\n",
       "  </thead>\n",
       "  <tbody>\n",
       "    <tr>\n",
       "      <th>50</th>\n",
       "      <td>Near North</td>\n",
       "      <td>310 W. Division St.</td>\n",
       "      <td>Chicago</td>\n",
       "      <td>60610.0</td>\n",
       "      <td>11032</td>\n",
       "      <td>10021</td>\n",
       "      <td>12911</td>\n",
       "      <td>12621</td>\n",
       "      <td>12437</td>\n",
       "      <td>13988</td>\n",
       "      <td>13955</td>\n",
       "      <td>14729</td>\n",
       "      <td>13989</td>\n",
       "      <td>13355</td>\n",
       "      <td>13006</td>\n",
       "      <td>12194</td>\n",
       "      <td>154238</td>\n",
       "      <td>2011</td>\n",
       "    </tr>\n",
       "    <tr>\n",
       "      <th>51</th>\n",
       "      <td>North Austin</td>\n",
       "      <td>5724 W. North Ave.</td>\n",
       "      <td>Chicago</td>\n",
       "      <td>60639.0</td>\n",
       "      <td>2481</td>\n",
       "      <td>2045</td>\n",
       "      <td>2674</td>\n",
       "      <td>2832</td>\n",
       "      <td>2202</td>\n",
       "      <td>2694</td>\n",
       "      <td>3302</td>\n",
       "      <td>3225</td>\n",
       "      <td>3160</td>\n",
       "      <td>3074</td>\n",
       "      <td>2796</td>\n",
       "      <td>2272</td>\n",
       "      <td>32757</td>\n",
       "      <td>2011</td>\n",
       "    </tr>\n",
       "    <tr>\n",
       "      <th>52</th>\n",
       "      <td>North Pulaski</td>\n",
       "      <td>4300 W. North Ave.</td>\n",
       "      <td>Chicago</td>\n",
       "      <td>60639.0</td>\n",
       "      <td>3848</td>\n",
       "      <td>3176</td>\n",
       "      <td>4111</td>\n",
       "      <td>5066</td>\n",
       "      <td>3885</td>\n",
       "      <td>5105</td>\n",
       "      <td>5916</td>\n",
       "      <td>5512</td>\n",
       "      <td>5349</td>\n",
       "      <td>6386</td>\n",
       "      <td>5952</td>\n",
       "      <td>5372</td>\n",
       "      <td>59678</td>\n",
       "      <td>2011</td>\n",
       "    </tr>\n",
       "    <tr>\n",
       "      <th>53</th>\n",
       "      <td>Northtown</td>\n",
       "      <td>6435 N. California Ave.</td>\n",
       "      <td>Chicago</td>\n",
       "      <td>60645.0</td>\n",
       "      <td>10191</td>\n",
       "      <td>8314</td>\n",
       "      <td>11569</td>\n",
       "      <td>11577</td>\n",
       "      <td>10902</td>\n",
       "      <td>14202</td>\n",
       "      <td>15310</td>\n",
       "      <td>14152</td>\n",
       "      <td>11623</td>\n",
       "      <td>12266</td>\n",
       "      <td>12673</td>\n",
       "      <td>12227</td>\n",
       "      <td>145006</td>\n",
       "      <td>2011</td>\n",
       "    </tr>\n",
       "    <tr>\n",
       "      <th>54</th>\n",
       "      <td>Oriole Park</td>\n",
       "      <td>7454 W. Balmoral Ave.</td>\n",
       "      <td>Chicago</td>\n",
       "      <td>60656.0</td>\n",
       "      <td>11999</td>\n",
       "      <td>11206</td>\n",
       "      <td>13675</td>\n",
       "      <td>12755</td>\n",
       "      <td>10364</td>\n",
       "      <td>12781</td>\n",
       "      <td>12219</td>\n",
       "      <td>12066</td>\n",
       "      <td>10856</td>\n",
       "      <td>11324</td>\n",
       "      <td>10503</td>\n",
       "      <td>9878</td>\n",
       "      <td>139626</td>\n",
       "      <td>2011</td>\n",
       "    </tr>\n",
       "    <tr>\n",
       "      <th>55</th>\n",
       "      <td>Portage-Cragin</td>\n",
       "      <td>5108 W. Belmont Ave.</td>\n",
       "      <td>Chicago</td>\n",
       "      <td>60641.0</td>\n",
       "      <td>9185</td>\n",
       "      <td>7634</td>\n",
       "      <td>9760</td>\n",
       "      <td>10163</td>\n",
       "      <td>7995</td>\n",
       "      <td>9735</td>\n",
       "      <td>10617</td>\n",
       "      <td>11203</td>\n",
       "      <td>10188</td>\n",
       "      <td>11418</td>\n",
       "      <td>10718</td>\n",
       "      <td>9517</td>\n",
       "      <td>118133</td>\n",
       "      <td>2011</td>\n",
       "    </tr>\n",
       "    <tr>\n",
       "      <th>56</th>\n",
       "      <td>Pullman</td>\n",
       "      <td>11001 S. Indiana Ave.</td>\n",
       "      <td>Chicago</td>\n",
       "      <td>60628.0</td>\n",
       "      <td>1916</td>\n",
       "      <td>1206</td>\n",
       "      <td>1975</td>\n",
       "      <td>2176</td>\n",
       "      <td>2019</td>\n",
       "      <td>2347</td>\n",
       "      <td>2092</td>\n",
       "      <td>2426</td>\n",
       "      <td>2476</td>\n",
       "      <td>2611</td>\n",
       "      <td>2530</td>\n",
       "      <td>2033</td>\n",
       "      <td>25807</td>\n",
       "      <td>2011</td>\n",
       "    </tr>\n",
       "    <tr>\n",
       "      <th>57</th>\n",
       "      <td>Roden</td>\n",
       "      <td>6083 N. Northwest Highway</td>\n",
       "      <td>Chicago</td>\n",
       "      <td>60631.0</td>\n",
       "      <td>6336</td>\n",
       "      <td>5830</td>\n",
       "      <td>7513</td>\n",
       "      <td>6978</td>\n",
       "      <td>6180</td>\n",
       "      <td>8519</td>\n",
       "      <td>8985</td>\n",
       "      <td>7592</td>\n",
       "      <td>6628</td>\n",
       "      <td>7113</td>\n",
       "      <td>6999</td>\n",
       "      <td>6082</td>\n",
       "      <td>84755</td>\n",
       "      <td>2011</td>\n",
       "    </tr>\n",
       "    <tr>\n",
       "      <th>58</th>\n",
       "      <td>Rogers Park</td>\n",
       "      <td>6907 N. Clark St.</td>\n",
       "      <td>Chicago</td>\n",
       "      <td>60626.0</td>\n",
       "      <td>10537</td>\n",
       "      <td>9683</td>\n",
       "      <td>13812</td>\n",
       "      <td>13745</td>\n",
       "      <td>13368</td>\n",
       "      <td>18314</td>\n",
       "      <td>20367</td>\n",
       "      <td>19773</td>\n",
       "      <td>18419</td>\n",
       "      <td>18972</td>\n",
       "      <td>17255</td>\n",
       "      <td>16597</td>\n",
       "      <td>190842</td>\n",
       "      <td>2011</td>\n",
       "    </tr>\n",
       "    <tr>\n",
       "      <th>59</th>\n",
       "      <td>Roosevelt</td>\n",
       "      <td>1101 W. Taylor St.</td>\n",
       "      <td>Chicago</td>\n",
       "      <td>60607.0</td>\n",
       "      <td>6357</td>\n",
       "      <td>6171</td>\n",
       "      <td>8228</td>\n",
       "      <td>7683</td>\n",
       "      <td>7257</td>\n",
       "      <td>8545</td>\n",
       "      <td>8134</td>\n",
       "      <td>8289</td>\n",
       "      <td>7696</td>\n",
       "      <td>7598</td>\n",
       "      <td>7019</td>\n",
       "      <td>6665</td>\n",
       "      <td>89642</td>\n",
       "      <td>2011</td>\n",
       "    </tr>\n",
       "  </tbody>\n",
       "</table>\n",
       "</div>"
      ],
      "text/plain": [
       "            branch                    address     city  zip code  january  \\\n",
       "50      Near North        310 W. Division St.  Chicago   60610.0    11032   \n",
       "51    North Austin         5724 W. North Ave.  Chicago   60639.0     2481   \n",
       "52   North Pulaski         4300 W. North Ave.  Chicago   60639.0     3848   \n",
       "53       Northtown    6435 N. California Ave.  Chicago   60645.0    10191   \n",
       "54     Oriole Park      7454 W. Balmoral Ave.  Chicago   60656.0    11999   \n",
       "55  Portage-Cragin       5108 W. Belmont Ave.  Chicago   60641.0     9185   \n",
       "56         Pullman      11001 S. Indiana Ave.  Chicago   60628.0     1916   \n",
       "57           Roden  6083 N. Northwest Highway  Chicago   60631.0     6336   \n",
       "58     Rogers Park          6907 N. Clark St.  Chicago   60626.0    10537   \n",
       "59       Roosevelt         1101 W. Taylor St.  Chicago   60607.0     6357   \n",
       "\n",
       "    february  march  april    may   june   july  august  september  october  \\\n",
       "50     10021  12911  12621  12437  13988  13955   14729      13989    13355   \n",
       "51      2045   2674   2832   2202   2694   3302    3225       3160     3074   \n",
       "52      3176   4111   5066   3885   5105   5916    5512       5349     6386   \n",
       "53      8314  11569  11577  10902  14202  15310   14152      11623    12266   \n",
       "54     11206  13675  12755  10364  12781  12219   12066      10856    11324   \n",
       "55      7634   9760  10163   7995   9735  10617   11203      10188    11418   \n",
       "56      1206   1975   2176   2019   2347   2092    2426       2476     2611   \n",
       "57      5830   7513   6978   6180   8519   8985    7592       6628     7113   \n",
       "58      9683  13812  13745  13368  18314  20367   19773      18419    18972   \n",
       "59      6171   8228   7683   7257   8545   8134    8289       7696     7598   \n",
       "\n",
       "    november  december     ytd  year  \n",
       "50     13006     12194  154238  2011  \n",
       "51      2796      2272   32757  2011  \n",
       "52      5952      5372   59678  2011  \n",
       "53     12673     12227  145006  2011  \n",
       "54     10503      9878  139626  2011  \n",
       "55     10718      9517  118133  2011  \n",
       "56      2530      2033   25807  2011  \n",
       "57      6999      6082   84755  2011  \n",
       "58     17255     16597  190842  2011  \n",
       "59      7019      6665   89642  2011  "
      ]
     },
     "execution_count": 13,
     "metadata": {},
     "output_type": "execute_result"
    }
   ],
   "source": [
    "df[50:60] #look at rows 50 to 59"
   ]
  },
  {
   "cell_type": "code",
   "execution_count": 14,
   "id": "af41ca42",
   "metadata": {},
   "outputs": [
    {
     "data": {
      "text/html": [
       "<div>\n",
       "<style scoped>\n",
       "    .dataframe tbody tr th:only-of-type {\n",
       "        vertical-align: middle;\n",
       "    }\n",
       "\n",
       "    .dataframe tbody tr th {\n",
       "        vertical-align: top;\n",
       "    }\n",
       "\n",
       "    .dataframe thead th {\n",
       "        text-align: right;\n",
       "    }\n",
       "</style>\n",
       "<table border=\"1\" class=\"dataframe\">\n",
       "  <thead>\n",
       "    <tr style=\"text-align: right;\">\n",
       "      <th></th>\n",
       "      <th>branch</th>\n",
       "      <th>address</th>\n",
       "      <th>city</th>\n",
       "      <th>zip code</th>\n",
       "      <th>january</th>\n",
       "      <th>february</th>\n",
       "      <th>march</th>\n",
       "      <th>april</th>\n",
       "      <th>may</th>\n",
       "      <th>june</th>\n",
       "      <th>july</th>\n",
       "      <th>august</th>\n",
       "      <th>september</th>\n",
       "      <th>october</th>\n",
       "      <th>november</th>\n",
       "      <th>december</th>\n",
       "      <th>ytd</th>\n",
       "      <th>year</th>\n",
       "    </tr>\n",
       "  </thead>\n",
       "  <tbody>\n",
       "    <tr>\n",
       "      <th>960</th>\n",
       "      <td>Brighton Park</td>\n",
       "      <td>4314 S. Archer Ave.</td>\n",
       "      <td>Chicago</td>\n",
       "      <td>60632.0</td>\n",
       "      <td>1394</td>\n",
       "      <td>1321</td>\n",
       "      <td>1327</td>\n",
       "      <td>1705</td>\n",
       "      <td>1609</td>\n",
       "      <td>1578</td>\n",
       "      <td>1609</td>\n",
       "      <td>1512</td>\n",
       "      <td>1425</td>\n",
       "      <td>1603</td>\n",
       "      <td>1579</td>\n",
       "      <td>1278</td>\n",
       "      <td>17940</td>\n",
       "      <td>2022</td>\n",
       "    </tr>\n",
       "    <tr>\n",
       "      <th>961</th>\n",
       "      <td>South Chicago</td>\n",
       "      <td>9055 S. Houston Ave.</td>\n",
       "      <td>Chicago</td>\n",
       "      <td>60617.0</td>\n",
       "      <td>496</td>\n",
       "      <td>528</td>\n",
       "      <td>739</td>\n",
       "      <td>775</td>\n",
       "      <td>587</td>\n",
       "      <td>804</td>\n",
       "      <td>720</td>\n",
       "      <td>883</td>\n",
       "      <td>681</td>\n",
       "      <td>697</td>\n",
       "      <td>799</td>\n",
       "      <td>615</td>\n",
       "      <td>8324</td>\n",
       "      <td>2022</td>\n",
       "    </tr>\n",
       "    <tr>\n",
       "      <th>962</th>\n",
       "      <td>Chicago Bee</td>\n",
       "      <td>3647 S. State St.</td>\n",
       "      <td>Chicago</td>\n",
       "      <td>60609.0</td>\n",
       "      <td>799</td>\n",
       "      <td>543</td>\n",
       "      <td>709</td>\n",
       "      <td>803</td>\n",
       "      <td>707</td>\n",
       "      <td>931</td>\n",
       "      <td>778</td>\n",
       "      <td>770</td>\n",
       "      <td>714</td>\n",
       "      <td>835</td>\n",
       "      <td>718</td>\n",
       "      <td>788</td>\n",
       "      <td>9095</td>\n",
       "      <td>2022</td>\n",
       "    </tr>\n",
       "  </tbody>\n",
       "</table>\n",
       "</div>"
      ],
      "text/plain": [
       "            branch               address     city  zip code  january  \\\n",
       "960  Brighton Park   4314 S. Archer Ave.  Chicago   60632.0     1394   \n",
       "961  South Chicago  9055 S. Houston Ave.  Chicago   60617.0      496   \n",
       "962    Chicago Bee     3647 S. State St.  Chicago   60609.0      799   \n",
       "\n",
       "     february  march  april   may  june  july  august  september  october  \\\n",
       "960      1321   1327   1705  1609  1578  1609    1512       1425     1603   \n",
       "961       528    739    775   587   804   720     883        681      697   \n",
       "962       543    709    803   707   931   778     770        714      835   \n",
       "\n",
       "     november  december    ytd  year  \n",
       "960      1579      1278  17940  2022  \n",
       "961       799       615   8324  2022  \n",
       "962       718       788   9095  2022  "
      ]
     },
     "execution_count": 14,
     "metadata": {},
     "output_type": "execute_result"
    }
   ],
   "source": [
    "df.tail(3)"
   ]
  },
  {
   "cell_type": "code",
   "execution_count": 15,
   "id": "118b4b1e",
   "metadata": {},
   "outputs": [
    {
     "data": {
      "text/plain": [
       "0      2011\n",
       "1      2011\n",
       "2      2011\n",
       "3      2011\n",
       "4      2011\n",
       "       ... \n",
       "958    2022\n",
       "959    2022\n",
       "960    2022\n",
       "961    2022\n",
       "962    2022\n",
       "Name: year, Length: 963, dtype: object"
      ]
     },
     "execution_count": 15,
     "metadata": {},
     "output_type": "execute_result"
    }
   ],
   "source": [
    "df['year'] #look at the year column"
   ]
  },
  {
   "cell_type": "code",
   "execution_count": 16,
   "id": "a89959e7",
   "metadata": {},
   "outputs": [
    {
     "name": "stdout",
     "output_type": "stream",
     "text": [
      "max year: 2022\n",
      "min year: 2011\n"
     ]
    }
   ],
   "source": [
    "print(f\"max year: {df['year'].max()}\")\n",
    "print(f\"min year: {df['year'].min()}\")"
   ]
  },
  {
   "cell_type": "code",
   "execution_count": 17,
   "id": "00a891a1",
   "metadata": {},
   "outputs": [
    {
     "name": "stdout",
     "output_type": "stream",
     "text": [
      "Number of unique branches: 82\n",
      "['Albany Park' 'Altgeld' 'Archer Heights' 'Austin' 'Austin-Irving'\n",
      " 'Avalon' 'Back of the Yards' 'Beverly' 'Bezazian' 'Blackstone' 'Brainerd'\n",
      " 'Brighton Park' 'Bucktown-Wicker Park' 'Budlong Woods' 'Canaryville'\n",
      " 'Chicago Bee' 'Chicago Lawn' 'Chinatown' 'Clearing' 'Coleman'\n",
      " 'Daley, Richard J. - Bridgeport' 'Daley, Richard M. - W Humboldt'\n",
      " 'Douglass' 'Dunning' 'Edgebrook' 'Edgewater' 'Gage Park'\n",
      " 'Galewood-Mont Clare' 'Garfield Ridge' 'Greater Grand Crossing' 'Hall'\n",
      " 'Harold Washington Library Center' 'Hegewisch' 'Humboldt Park'\n",
      " 'Independence' 'Jefferson Park' 'Jeffery Manor' 'Kelly' 'King'\n",
      " 'Legler Regional' 'Lincoln Belmont' 'Lincoln Park' 'Little Village'\n",
      " 'Logan Square' 'Lozano' 'Manning' 'Mayfair' 'McKinley Park' 'Merlo'\n",
      " 'Mount Greenwood' 'Near North' 'North Austin' 'North Pulaski' 'Northtown'\n",
      " 'Oriole Park' 'Portage-Cragin' 'Pullman' 'Roden' 'Rogers Park'\n",
      " 'Roosevelt' 'Scottsdale' 'Sherman Park' 'South Chicago' 'South Shore'\n",
      " 'Sulzer Regional' 'Thurgood Marshall' 'Toman' 'Uptown' 'Vodak-East Side'\n",
      " 'Walker' 'Water Works' 'West Belmont' 'West Chicago Avenue'\n",
      " 'West Englewood' 'West Lawn' 'West Pullman' 'West Town'\n",
      " 'Whitney M. Young, Jr.' 'Woodson Regional' 'Wrightwood-Ashburn'\n",
      " 'Little Italy' 'West Loop']\n"
     ]
    }
   ],
   "source": [
    "# Summarize columns that hold string objects\n",
    "print(f\"Number of unique branches: {df['branch'].nunique()}\")\n",
    "print(df['branch'].unique())"
   ]
  },
  {
   "cell_type": "code",
   "execution_count": 18,
   "id": "d7c415b1",
   "metadata": {},
   "outputs": [
    {
     "data": {
      "text/plain": [
       "branch\n",
       "Albany Park              1024714\n",
       "Altgeld                    68358\n",
       "Archer Heights            803014\n",
       "Austin                    200107\n",
       "Austin-Irving            1359700\n",
       "                          ...   \n",
       "West Pullman              295327\n",
       "West Town                 922876\n",
       "Whitney M. Young, Jr.     259680\n",
       "Woodson Regional          823793\n",
       "Wrightwood-Ashburn        302285\n",
       "Name: ytd, Length: 82, dtype: int64"
      ]
     },
     "execution_count": 18,
     "metadata": {},
     "output_type": "execute_result"
    }
   ],
   "source": [
    "# Use .groupby() to analyze subsets of data\n",
    "df.groupby('branch')['ytd'].sum()"
   ]
  },
  {
   "cell_type": "code",
   "execution_count": 19,
   "id": "0b3aeb1c",
   "metadata": {},
   "outputs": [
    {
     "data": {
      "text/plain": [
       "year  branch                          \n",
       "2011  Harold Washington Library Center    966720\n",
       "2012  Harold Washington Library Center    937649\n",
       "2013  Harold Washington Library Center    821749\n",
       "2014  Harold Washington Library Center    755189\n",
       "2015  Harold Washington Library Center    694528\n",
       "Name: ytd, dtype: int64"
      ]
     },
     "execution_count": 19,
     "metadata": {},
     "output_type": "execute_result"
    }
   ],
   "source": [
    "# Sort pandas series using .sort_values()\n",
    "circ_by_branch = df.groupby('branch')['ytd'].sum()\n",
    "circ_by_branch.sort_values(ascending=False).head(10)\n",
    "\n",
    "circ_by_year_branch = df.groupby(['year', 'branch'])['ytd'].sum().sort_values(ascending=False)\n",
    "circ_by_year_branch.head(5)"
   ]
  },
  {
   "cell_type": "code",
   "execution_count": 20,
   "id": "552094a8",
   "metadata": {},
   "outputs": [
    {
     "name": "stdout",
     "output_type": "stream",
     "text": [
      "Branch: Albany Park \n",
      "YTD circ: 120059\n",
      "Branch: Albany Park \n",
      "YTD circ: 120059\n"
     ]
    }
   ],
   "source": [
    "# Use .iloc[] and .loc[] to select DataFrame locations\n",
    "print(f\"Branch: {df.iloc[0,0]} \\nYTD circ: {df.iloc[0,-2]}\")\n",
    "\n",
    "#.loc() has the same structure but takes labels instead of integer locations\n",
    "print(f\"Branch: {df.loc[0,'branch']} \\nYTD circ: {df.loc[0, 'ytd']}\")"
   ]
  },
  {
   "cell_type": "code",
   "execution_count": 21,
   "id": "04db4e04",
   "metadata": {},
   "outputs": [
    {
     "data": {
      "text/html": [
       "<div>\n",
       "<style scoped>\n",
       "    .dataframe tbody tr th:only-of-type {\n",
       "        vertical-align: middle;\n",
       "    }\n",
       "\n",
       "    .dataframe tbody tr th {\n",
       "        vertical-align: top;\n",
       "    }\n",
       "\n",
       "    .dataframe thead th {\n",
       "        text-align: right;\n",
       "    }\n",
       "</style>\n",
       "<table border=\"1\" class=\"dataframe\">\n",
       "  <thead>\n",
       "    <tr style=\"text-align: right;\">\n",
       "      <th></th>\n",
       "      <th></th>\n",
       "      <th>ytd</th>\n",
       "    </tr>\n",
       "    <tr>\n",
       "      <th>year</th>\n",
       "      <th>branch</th>\n",
       "      <th></th>\n",
       "    </tr>\n",
       "  </thead>\n",
       "  <tbody>\n",
       "    <tr>\n",
       "      <th>2011</th>\n",
       "      <th>Harold Washington Library Center</th>\n",
       "      <td>966720</td>\n",
       "    </tr>\n",
       "    <tr>\n",
       "      <th>2012</th>\n",
       "      <th>Harold Washington Library Center</th>\n",
       "      <td>937649</td>\n",
       "    </tr>\n",
       "    <tr>\n",
       "      <th>2013</th>\n",
       "      <th>Harold Washington Library Center</th>\n",
       "      <td>821749</td>\n",
       "    </tr>\n",
       "    <tr>\n",
       "      <th>2014</th>\n",
       "      <th>Harold Washington Library Center</th>\n",
       "      <td>755189</td>\n",
       "    </tr>\n",
       "    <tr>\n",
       "      <th>2015</th>\n",
       "      <th>Harold Washington Library Center</th>\n",
       "      <td>694528</td>\n",
       "    </tr>\n",
       "  </tbody>\n",
       "</table>\n",
       "</div>"
      ],
      "text/plain": [
       "                                          ytd\n",
       "year branch                                  \n",
       "2011 Harold Washington Library Center  966720\n",
       "2012 Harold Washington Library Center  937649\n",
       "2013 Harold Washington Library Center  821749\n",
       "2014 Harold Washington Library Center  755189\n",
       "2015 Harold Washington Library Center  694528"
      ]
     },
     "execution_count": 21,
     "metadata": {},
     "output_type": "execute_result"
    }
   ],
   "source": [
    "circ_df = circ_by_year_branch.to_frame()\n",
    "circ_df.head(5)"
   ]
  },
  {
   "cell_type": "code",
   "execution_count": 22,
   "id": "77e37c55",
   "metadata": {},
   "outputs": [],
   "source": [
    "circ_df.to_csv('high_usage.csv')"
   ]
  },
  {
   "cell_type": "markdown",
   "id": "bf653ffd",
   "metadata": {},
   "source": [
    "## Visualizing Data"
   ]
  },
  {
   "cell_type": "code",
   "execution_count": 23,
   "id": "56955339",
   "metadata": {},
   "outputs": [],
   "source": [
    "import pandas as pd\n",
    "df_long = pd.read_pickle(r\"C:\\Users\\swatson\\Desktop\\data\\df_long.pkl\")"
   ]
  },
  {
   "cell_type": "code",
   "execution_count": 24,
   "id": "4488699d",
   "metadata": {},
   "outputs": [],
   "source": [
    "albany = df_long[df_long['branch'] == 'Albany Park'].sort_index()"
   ]
  },
  {
   "cell_type": "code",
   "execution_count": 25,
   "id": "ee81ddc9",
   "metadata": {},
   "outputs": [
    {
     "data": {
      "text/plain": [
       "<Axes: xlabel='date'>"
      ]
     },
     "execution_count": 25,
     "metadata": {},
     "output_type": "execute_result"
    },
    {
     "data": {
      "image/png": "[encoded data removed]",
      "text/plain": [
       "<Figure size 640x480 with 1 Axes>"
      ]
     },
     "metadata": {},
     "output_type": "display_data"
    }
   ],
   "source": [
    "albany.plot()"
   ]
  },
  {
   "cell_type": "code",
   "execution_count": 26,
   "id": "45b24662",
   "metadata": {},
   "outputs": [
    {
     "data": {
      "text/plain": [
       "<Axes: xlabel='date'>"
      ]
     },
     "execution_count": 26,
     "metadata": {},
     "output_type": "execute_result"
    },
    {
     "data": {
      "image/png": "[encoded data removed]",
      "text/plain": [
       "<Figure size 640x480 with 1 Axes>"
      ]
     },
     "metadata": {},
     "output_type": "display_data"
    }
   ],
   "source": [
    "albany['circulation'].plot()"
   ]
  },
  {
   "cell_type": "code",
   "execution_count": 27,
   "id": "625753f9",
   "metadata": {},
   "outputs": [
    {
     "data": {
      "text/plain": [
       "<Axes: title={'center': 'Circulation Count Over Time'}, xlabel='Date', ylabel='Circulation Count'>"
      ]
     },
     "execution_count": 27,
     "metadata": {},
     "output_type": "execute_result"
    },
    {
     "data": {
      "image/png": "[encoded data removed]",
      "text/plain": [
       "<Figure size 1000x500 with 1 Axes>"
      ]
     },
     "metadata": {},
     "output_type": "display_data"
    }
   ],
   "source": [
    "albany['circulation'].plot(title='Circulation Count Over Time', \n",
    "                                figsize=(10, 5), \n",
    "                                color='blue', \n",
    "                                xlabel='Date',\n",
    "                                ylabel='Circulation Count')"
   ]
  },
  {
   "cell_type": "code",
   "execution_count": 28,
   "id": "b32d1eb9",
   "metadata": {},
   "outputs": [],
   "source": [
    "selected_branches = df_long[df_long['branch'].isin(['Altgeld',\n",
    " 'Archer Heights',\n",
    " 'Austin',\n",
    " 'Austin-Irving',\n",
    " 'Avalon'])]\n",
    "selected_branches = selected_branches.sort_values(by='date')"
   ]
  },
  {
   "cell_type": "code",
   "execution_count": 29,
   "id": "ceee4daa",
   "metadata": {},
   "outputs": [
    {
     "data": {
      "application/vnd.plotly.v1+json": {
       "config": {
        "plotlyServerURL": "https://plot.ly"
       },
       "data": [
        {
         "hovertemplate": "branch=Altgeld<br>date=%{x}<br>circulation=%{y}<extra></extra>",
         "legendgroup": "Altgeld",
         "line": {
          "color": "#636efa",
          "dash": "solid"
         },
         "marker": {
          "symbol": "circle"
         },
         "mode": "lines",
         "name": "Altgeld",
         "orientation": "v",
         "showlegend": true,
         "type": "scatter",
         "x": [
          "2011-01-01T00:00:00.000000000",
          "2011-02-01T00:00:00.000000000",
          "2011-03-01T00:00:00.000000000",
          "2011-04-01T00:00:00.000000000",
          "2011-05-01T00:00:00.000000000",
          "2011-06-01T00:00:00.000000000",
          "2011-07-01T00:00:00.000000000",
          "2011-08-01T00:00:00.000000000",
          "2011-09-01T00:00:00.000000000",
          "2011-10-01T00:00:00.000000000",
          "2011-11-01T00:00:00.000000000",
          "2011-12-01T00:00:00.000000000",
          "2012-01-01T00:00:00.000000000",
          "2012-02-01T00:00:00.000000000",
          "2012-03-01T00:00:00.000000000",
          "2012-04-01T00:00:00.000000000",
          "2012-05-01T00:00:00.000000000",
          "2012-06-01T00:00:00.000000000",
          "2012-07-01T00:00:00.000000000",
          "2012-08-01T00:00:00.000000000",
          "2012-09-01T00:00:00.000000000",
          "2012-10-01T00:00:00.000000000",
          "2012-11-01T00:00:00.000000000",
          "2012-12-01T00:00:00.000000000",
          "2013-01-01T00:00:00.000000000",
          "2013-02-01T00:00:00.000000000",
          "2013-03-01T00:00:00.000000000",
          "2013-04-01T00:00:00.000000000",
          "2013-05-01T00:00:00.000000000",
          "2013-06-01T00:00:00.000000000",
          "2013-07-01T00:00:00.000000000",
          "2013-08-01T00:00:00.000000000",
          "2013-09-01T00:00:00.000000000",
          "2013-10-01T00:00:00.000000000",
          "2013-11-01T00:00:00.000000000",
          "2013-12-01T00:00:00.000000000",
          "2014-01-01T00:00:00.000000000",
          "2014-02-01T00:00:00.000000000",
          "2014-03-01T00:00:00.000000000",
          "2014-04-01T00:00:00.000000000",
          "2014-05-01T00:00:00.000000000",
          "2014-06-01T00:00:00.000000000",
          "2014-07-01T00:00:00.000000000",
          "2014-08-01T00:00:00.000000000",
          "2014-09-01T00:00:00.000000000",
          "2014-10-01T00:00:00.000000000",
          "2014-11-01T00:00:00.000000000",
          "2014-12-01T00:00:00.000000000",
          "2015-01-01T00:00:00.000000000",
          "2015-02-01T00:00:00.000000000",
          "2015-03-01T00:00:00.000000000",
          "2015-04-01T00:00:00.000000000",
          "2015-05-01T00:00:00.000000000",
          "2015-06-01T00:00:00.000000000",
          "2015-07-01T00:00:00.000000000",
          "2015-08-01T00:00:00.000000000",
          "2015-09-01T00:00:00.000000000",
          "2015-10-01T00:00:00.000000000",
          "2015-11-01T00:00:00.000000000",
          "2015-12-01T00:00:00.000000000",
          "2016-01-01T00:00:00.000000000",
          "2016-02-01T00:00:00.000000000",
          "2016-03-01T00:00:00.000000000",
          "2016-04-01T00:00:00.000000000",
          "2016-05-01T00:00:00.000000000",
          "2016-06-01T00:00:00.000000000",
          "2016-07-01T00:00:00.000000000",
          "2016-08-01T00:00:00.000000000",
          "2016-09-01T00:00:00.000000000",
          "2016-10-01T00:00:00.000000000",
          "2016-11-01T00:00:00.000000000",
          "2016-12-01T00:00:00.000000000",
          "2017-01-01T00:00:00.000000000",
          "2017-02-01T00:00:00.000000000",
          "2017-03-01T00:00:00.000000000",
          "2017-04-01T00:00:00.000000000",
          "2017-05-01T00:00:00.000000000",
          "2017-06-01T00:00:00.000000000",
          "2017-07-01T00:00:00.000000000",
          "2017-08-01T00:00:00.000000000",
          "2017-09-01T00:00:00.000000000",
          "2017-10-01T00:00:00.000000000",
          "2017-11-01T00:00:00.000000000",
          "2017-12-01T00:00:00.000000000",
          "2018-01-01T00:00:00.000000000",
          "2018-02-01T00:00:00.000000000",
          "2018-03-01T00:00:00.000000000",
          "2018-04-01T00:00:00.000000000",
          "2018-05-01T00:00:00.000000000",
          "2018-06-01T00:00:00.000000000",
          "2018-07-01T00:00:00.000000000",
          "2018-08-01T00:00:00.000000000",
          "2018-09-01T00:00:00.000000000",
          "2018-10-01T00:00:00.000000000",
          "2018-11-01T00:00:00.000000000",
          "2018-12-01T00:00:00.000000000",
          "2019-01-01T00:00:00.000000000",
          "2019-02-01T00:00:00.000000000",
          "2019-03-01T00:00:00.000000000",
          "2019-04-01T00:00:00.000000000",
          "2019-05-01T00:00:00.000000000",
          "2019-06-01T00:00:00.000000000",
          "2019-07-01T00:00:00.000000000",
          "2019-08-01T00:00:00.000000000",
          "2019-09-01T00:00:00.000000000",
          "2019-10-01T00:00:00.000000000",
          "2019-11-01T00:00:00.000000000",
          "2019-12-01T00:00:00.000000000",
          "2020-01-01T00:00:00.000000000",
          "2020-02-01T00:00:00.000000000",
          "2020-03-01T00:00:00.000000000",
          "2020-04-01T00:00:00.000000000",
          "2020-05-01T00:00:00.000000000",
          "2020-06-01T00:00:00.000000000",
          "2020-07-01T00:00:00.000000000",
          "2020-08-01T00:00:00.000000000",
          "2020-09-01T00:00:00.000000000",
          "2020-10-01T00:00:00.000000000",
          "2020-11-01T00:00:00.000000000",
          "2020-12-01T00:00:00.000000000",
          "2021-01-01T00:00:00.000000000",
          "2021-02-01T00:00:00.000000000",
          "2021-03-01T00:00:00.000000000",
          "2021-04-01T00:00:00.000000000",
          "2021-05-01T00:00:00.000000000",
          "2021-06-01T00:00:00.000000000",
          "2021-07-01T00:00:00.000000000",
          "2021-08-01T00:00:00.000000000",
          "2021-09-01T00:00:00.000000000",
          "2021-10-01T00:00:00.000000000",
          "2021-11-01T00:00:00.000000000",
          "2021-12-01T00:00:00.000000000",
          "2022-01-01T00:00:00.000000000",
          "2022-02-01T00:00:00.000000000",
          "2022-03-01T00:00:00.000000000",
          "2022-04-01T00:00:00.000000000",
          "2022-05-01T00:00:00.000000000",
          "2022-06-01T00:00:00.000000000",
          "2022-07-01T00:00:00.000000000",
          "2022-08-01T00:00:00.000000000",
          "2022-09-01T00:00:00.000000000",
          "2022-10-01T00:00:00.000000000",
          "2022-11-01T00:00:00.000000000",
          "2022-12-01T00:00:00.000000000"
         ],
         "xaxis": "x",
         "y": {
          "bdata": "6gTEAlYDJAMwA2YDyQLgAb4CnwMTA7QCogIBApEBdwITApUCKQPbA0IFqwUGBNADZwPSAvICbAKjAmYCaQMwA3wD4QMdA3sDFwNcAgoCYwJLAtkC5wLmAggD7wI/AzYDYAIFAcgB+gHAAQcCyALdATsCwQJhAv4BpgI4Av0BDQKVAZABTQFYAhQCGQKFAYQBPAHmAEsBlAH5ACYBRwI4AqMBYwEMARgBRwEbAWIBEgGAAX8BQAFHAWoBDQL9AaUBegFGAUwBDgFAAUUBYgHlAOoAeQFxAfQBaAEPAZQAAAAAAAAAAAAAABcAAQCNAKUAfwBRAJwArQCSAJkAzgD4AKsAkgCtAJoAlgCLALMAIQEpAcYAAQHlADoB3wCtAMEA",
          "dtype": "i2"
         },
         "yaxis": "y"
        },
        {
         "hovertemplate": "branch=Archer Heights<br>date=%{x}<br>circulation=%{y}<extra></extra>",
         "legendgroup": "Archer Heights",
         "line": {
          "color": "#EF553B",
          "dash": "solid"
         },
         "marker": {
          "symbol": "circle"
         },
         "mode": "lines",
         "name": "Archer Heights",
         "orientation": "v",
         "showlegend": true,
         "type": "scatter",
         "x": [
          "2011-01-01T00:00:00.000000000",
          "2011-02-01T00:00:00.000000000",
          "2011-03-01T00:00:00.000000000",
          "2011-04-01T00:00:00.000000000",
          "2011-05-01T00:00:00.000000000",
          "2011-06-01T00:00:00.000000000",
          "2011-07-01T00:00:00.000000000",
          "2011-08-01T00:00:00.000000000",
          "2011-09-01T00:00:00.000000000",
          "2011-10-01T00:00:00.000000000",
          "2011-11-01T00:00:00.000000000",
          "2011-12-01T00:00:00.000000000",
          "2012-01-01T00:00:00.000000000",
          "2012-02-01T00:00:00.000000000",
          "2012-03-01T00:00:00.000000000",
          "2012-04-01T00:00:00.000000000",
          "2012-05-01T00:00:00.000000000",
          "2012-06-01T00:00:00.000000000",
          "2012-07-01T00:00:00.000000000",
          "2012-08-01T00:00:00.000000000",
          "2012-09-01T00:00:00.000000000",
          "2012-10-01T00:00:00.000000000",
          "2012-11-01T00:00:00.000000000",
          "2012-12-01T00:00:00.000000000",
          "2013-01-01T00:00:00.000000000",
          "2013-02-01T00:00:00.000000000",
          "2013-03-01T00:00:00.000000000",
          "2013-04-01T00:00:00.000000000",
          "2013-05-01T00:00:00.000000000",
          "2013-06-01T00:00:00.000000000",
          "2013-07-01T00:00:00.000000000",
          "2013-08-01T00:00:00.000000000",
          "2013-09-01T00:00:00.000000000",
          "2013-10-01T00:00:00.000000000",
          "2013-11-01T00:00:00.000000000",
          "2013-12-01T00:00:00.000000000",
          "2014-01-01T00:00:00.000000000",
          "2014-02-01T00:00:00.000000000",
          "2014-03-01T00:00:00.000000000",
          "2014-04-01T00:00:00.000000000",
          "2014-05-01T00:00:00.000000000",
          "2014-06-01T00:00:00.000000000",
          "2014-07-01T00:00:00.000000000",
          "2014-08-01T00:00:00.000000000",
          "2014-09-01T00:00:00.000000000",
          "2014-10-01T00:00:00.000000000",
          "2014-11-01T00:00:00.000000000",
          "2014-12-01T00:00:00.000000000",
          "2015-01-01T00:00:00.000000000",
          "2015-02-01T00:00:00.000000000",
          "2015-03-01T00:00:00.000000000",
          "2015-04-01T00:00:00.000000000",
          "2015-05-01T00:00:00.000000000",
          "2015-06-01T00:00:00.000000000",
          "2015-07-01T00:00:00.000000000",
          "2015-08-01T00:00:00.000000000",
          "2015-09-01T00:00:00.000000000",
          "2015-10-01T00:00:00.000000000",
          "2015-11-01T00:00:00.000000000",
          "2015-12-01T00:00:00.000000000",
          "2016-01-01T00:00:00.000000000",
          "2016-02-01T00:00:00.000000000",
          "2016-03-01T00:00:00.000000000",
          "2016-04-01T00:00:00.000000000",
          "2016-05-01T00:00:00.000000000",
          "2016-06-01T00:00:00.000000000",
          "2016-07-01T00:00:00.000000000",
          "2016-08-01T00:00:00.000000000",
          "2016-09-01T00:00:00.000000000",
          "2016-10-01T00:00:00.000000000",
          "2016-11-01T00:00:00.000000000",
          "2016-12-01T00:00:00.000000000",
          "2017-01-01T00:00:00.000000000",
          "2017-02-01T00:00:00.000000000",
          "2017-03-01T00:00:00.000000000",
          "2017-04-01T00:00:00.000000000",
          "2017-05-01T00:00:00.000000000",
          "2017-06-01T00:00:00.000000000",
          "2017-07-01T00:00:00.000000000",
          "2017-08-01T00:00:00.000000000",
          "2017-09-01T00:00:00.000000000",
          "2017-10-01T00:00:00.000000000",
          "2017-11-01T00:00:00.000000000",
          "2017-12-01T00:00:00.000000000",
          "2018-01-01T00:00:00.000000000",
          "2018-02-01T00:00:00.000000000",
          "2018-03-01T00:00:00.000000000",
          "2018-04-01T00:00:00.000000000",
          "2018-05-01T00:00:00.000000000",
          "2018-06-01T00:00:00.000000000",
          "2018-07-01T00:00:00.000000000",
          "2018-08-01T00:00:00.000000000",
          "2018-09-01T00:00:00.000000000",
          "2018-10-01T00:00:00.000000000",
          "2018-11-01T00:00:00.000000000",
          "2018-12-01T00:00:00.000000000",
          "2019-01-01T00:00:00.000000000",
          "2019-02-01T00:00:00.000000000",
          "2019-03-01T00:00:00.000000000",
          "2019-04-01T00:00:00.000000000",
          "2019-05-01T00:00:00.000000000",
          "2019-06-01T00:00:00.000000000",
          "2019-07-01T00:00:00.000000000",
          "2019-08-01T00:00:00.000000000",
          "2019-09-01T00:00:00.000000000",
          "2019-10-01T00:00:00.000000000",
          "2019-11-01T00:00:00.000000000",
          "2019-12-01T00:00:00.000000000",
          "2020-01-01T00:00:00.000000000",
          "2020-02-01T00:00:00.000000000",
          "2020-03-01T00:00:00.000000000",
          "2020-04-01T00:00:00.000000000",
          "2020-05-01T00:00:00.000000000",
          "2020-06-01T00:00:00.000000000",
          "2020-07-01T00:00:00.000000000",
          "2020-08-01T00:00:00.000000000",
          "2020-09-01T00:00:00.000000000",
          "2020-10-01T00:00:00.000000000",
          "2020-11-01T00:00:00.000000000",
          "2020-12-01T00:00:00.000000000",
          "2021-01-01T00:00:00.000000000",
          "2021-02-01T00:00:00.000000000",
          "2021-03-01T00:00:00.000000000",
          "2021-04-01T00:00:00.000000000",
          "2021-05-01T00:00:00.000000000",
          "2021-06-01T00:00:00.000000000",
          "2021-07-01T00:00:00.000000000",
          "2021-08-01T00:00:00.000000000",
          "2021-09-01T00:00:00.000000000",
          "2021-10-01T00:00:00.000000000",
          "2021-11-01T00:00:00.000000000",
          "2021-12-01T00:00:00.000000000",
          "2022-01-01T00:00:00.000000000",
          "2022-02-01T00:00:00.000000000",
          "2022-03-01T00:00:00.000000000",
          "2022-04-01T00:00:00.000000000",
          "2022-05-01T00:00:00.000000000",
          "2022-06-01T00:00:00.000000000",
          "2022-07-01T00:00:00.000000000",
          "2022-08-01T00:00:00.000000000",
          "2022-09-01T00:00:00.000000000",
          "2022-10-01T00:00:00.000000000",
          "2022-11-01T00:00:00.000000000",
          "2022-12-01T00:00:00.000000000"
         ],
         "xaxis": "x",
         "y": {
          "bdata": "qB/zGnEkpCMwHXogtB/ZI0kj7SVpIrkerx4CHtcfFx4YHn4cNx7OHnQjzyVZIhIeKyL8HbYh5h5mHHYa5B/yG3MdVyJsIPMaJxoaGjIfex9tGREZwBwIGoIchyAxGnMZyxrmFv4cAx5HGfsZZRxZG48ZpR7VGq0YChuEGjsdOxtgFqIY3xapFyEYUxldF8sT4RYCFZAaqhZhFmQUuxeUFqoUqhZQFJAUUxXpE/cYQBQ/EXwTsxUhFFcTMhXlEvgS9RSbEykV5RThEhMS7BS5ErkRjxTTD1cNuQ6qDXkKAAAAAHYFZwg3CJIIPQmiBxgHPAczBkIH/wYyBxgJHwvqCVsJEwoOClEIJQlTCEQKggoBCIAJyQlJCdMIBggzCPIG",
          "dtype": "i2"
         },
         "yaxis": "y"
        },
        {
         "hovertemplate": "branch=Austin<br>date=%{x}<br>circulation=%{y}<extra></extra>",
         "legendgroup": "Austin",
         "line": {
          "color": "#00cc96",
          "dash": "solid"
         },
         "marker": {
          "symbol": "circle"
         },
         "mode": "lines",
         "name": "Austin",
         "orientation": "v",
         "showlegend": true,
         "type": "scatter",
         "x": [
          "2011-01-01T00:00:00.000000000",
          "2011-02-01T00:00:00.000000000",
          "2011-03-01T00:00:00.000000000",
          "2011-04-01T00:00:00.000000000",
          "2011-05-01T00:00:00.000000000",
          "2011-06-01T00:00:00.000000000",
          "2011-07-01T00:00:00.000000000",
          "2011-08-01T00:00:00.000000000",
          "2011-09-01T00:00:00.000000000",
          "2011-10-01T00:00:00.000000000",
          "2011-11-01T00:00:00.000000000",
          "2011-12-01T00:00:00.000000000",
          "2012-01-01T00:00:00.000000000",
          "2012-02-01T00:00:00.000000000",
          "2012-03-01T00:00:00.000000000",
          "2012-04-01T00:00:00.000000000",
          "2012-05-01T00:00:00.000000000",
          "2012-06-01T00:00:00.000000000",
          "2012-07-01T00:00:00.000000000",
          "2012-08-01T00:00:00.000000000",
          "2012-09-01T00:00:00.000000000",
          "2012-10-01T00:00:00.000000000",
          "2012-11-01T00:00:00.000000000",
          "2012-12-01T00:00:00.000000000",
          "2013-01-01T00:00:00.000000000",
          "2013-02-01T00:00:00.000000000",
          "2013-03-01T00:00:00.000000000",
          "2013-04-01T00:00:00.000000000",
          "2013-05-01T00:00:00.000000000",
          "2013-06-01T00:00:00.000000000",
          "2013-07-01T00:00:00.000000000",
          "2013-08-01T00:00:00.000000000",
          "2013-09-01T00:00:00.000000000",
          "2013-10-01T00:00:00.000000000",
          "2013-11-01T00:00:00.000000000",
          "2013-12-01T00:00:00.000000000",
          "2014-01-01T00:00:00.000000000",
          "2014-02-01T00:00:00.000000000",
          "2014-03-01T00:00:00.000000000",
          "2014-04-01T00:00:00.000000000",
          "2014-05-01T00:00:00.000000000",
          "2014-06-01T00:00:00.000000000",
          "2014-07-01T00:00:00.000000000",
          "2014-08-01T00:00:00.000000000",
          "2014-09-01T00:00:00.000000000",
          "2014-10-01T00:00:00.000000000",
          "2014-11-01T00:00:00.000000000",
          "2014-12-01T00:00:00.000000000",
          "2015-01-01T00:00:00.000000000",
          "2015-02-01T00:00:00.000000000",
          "2015-03-01T00:00:00.000000000",
          "2015-04-01T00:00:00.000000000",
          "2015-05-01T00:00:00.000000000",
          "2015-06-01T00:00:00.000000000",
          "2015-07-01T00:00:00.000000000",
          "2015-08-01T00:00:00.000000000",
          "2015-09-01T00:00:00.000000000",
          "2015-10-01T00:00:00.000000000",
          "2015-11-01T00:00:00.000000000",
          "2015-12-01T00:00:00.000000000",
          "2016-01-01T00:00:00.000000000",
          "2016-02-01T00:00:00.000000000",
          "2016-03-01T00:00:00.000000000",
          "2016-04-01T00:00:00.000000000",
          "2016-05-01T00:00:00.000000000",
          "2016-06-01T00:00:00.000000000",
          "2016-07-01T00:00:00.000000000",
          "2016-08-01T00:00:00.000000000",
          "2016-09-01T00:00:00.000000000",
          "2016-10-01T00:00:00.000000000",
          "2016-11-01T00:00:00.000000000",
          "2016-12-01T00:00:00.000000000",
          "2017-01-01T00:00:00.000000000",
          "2017-02-01T00:00:00.000000000",
          "2017-03-01T00:00:00.000000000",
          "2017-04-01T00:00:00.000000000",
          "2017-05-01T00:00:00.000000000",
          "2017-06-01T00:00:00.000000000",
          "2017-07-01T00:00:00.000000000",
          "2017-08-01T00:00:00.000000000",
          "2017-09-01T00:00:00.000000000",
          "2017-10-01T00:00:00.000000000",
          "2017-11-01T00:00:00.000000000",
          "2017-12-01T00:00:00.000000000",
          "2018-01-01T00:00:00.000000000",
          "2018-02-01T00:00:00.000000000",
          "2018-03-01T00:00:00.000000000",
          "2018-04-01T00:00:00.000000000",
          "2018-05-01T00:00:00.000000000",
          "2018-06-01T00:00:00.000000000",
          "2018-07-01T00:00:00.000000000",
          "2018-08-01T00:00:00.000000000",
          "2018-09-01T00:00:00.000000000",
          "2018-10-01T00:00:00.000000000",
          "2018-11-01T00:00:00.000000000",
          "2018-12-01T00:00:00.000000000",
          "2019-01-01T00:00:00.000000000",
          "2019-02-01T00:00:00.000000000",
          "2019-03-01T00:00:00.000000000",
          "2019-04-01T00:00:00.000000000",
          "2019-05-01T00:00:00.000000000",
          "2019-06-01T00:00:00.000000000",
          "2019-07-01T00:00:00.000000000",
          "2019-08-01T00:00:00.000000000",
          "2019-09-01T00:00:00.000000000",
          "2019-10-01T00:00:00.000000000",
          "2019-11-01T00:00:00.000000000",
          "2019-12-01T00:00:00.000000000",
          "2020-01-01T00:00:00.000000000",
          "2020-02-01T00:00:00.000000000",
          "2020-03-01T00:00:00.000000000",
          "2020-04-01T00:00:00.000000000",
          "2020-05-01T00:00:00.000000000",
          "2020-06-01T00:00:00.000000000",
          "2020-07-01T00:00:00.000000000",
          "2020-08-01T00:00:00.000000000",
          "2020-09-01T00:00:00.000000000",
          "2020-10-01T00:00:00.000000000",
          "2020-11-01T00:00:00.000000000",
          "2020-12-01T00:00:00.000000000",
          "2021-01-01T00:00:00.000000000",
          "2021-02-01T00:00:00.000000000",
          "2021-03-01T00:00:00.000000000",
          "2021-04-01T00:00:00.000000000",
          "2021-05-01T00:00:00.000000000",
          "2021-06-01T00:00:00.000000000",
          "2021-07-01T00:00:00.000000000",
          "2021-08-01T00:00:00.000000000",
          "2021-09-01T00:00:00.000000000",
          "2021-10-01T00:00:00.000000000",
          "2021-11-01T00:00:00.000000000",
          "2021-12-01T00:00:00.000000000",
          "2022-01-01T00:00:00.000000000",
          "2022-02-01T00:00:00.000000000",
          "2022-03-01T00:00:00.000000000",
          "2022-04-01T00:00:00.000000000",
          "2022-05-01T00:00:00.000000000",
          "2022-06-01T00:00:00.000000000",
          "2022-07-01T00:00:00.000000000",
          "2022-08-01T00:00:00.000000000",
          "2022-09-01T00:00:00.000000000",
          "2022-10-01T00:00:00.000000000",
          "2022-11-01T00:00:00.000000000",
          "2022-12-01T00:00:00.000000000"
         ],
         "xaxis": "x",
         "y": {
          "bdata": "2wYkBZYHmAhVCDcJIAhlCXEJCwq5CEQISAisB6gHRQioB9QHGQmiCX4KsgoHCU0H9gfQBkkHNAi2BoYH/AjGBsYHnQjxBg4GwAXcBUEG3gcCB3cI6AibCH4HmwitB+UIOgdDBmYGcAd8Bi0IWwh/B4oGkweuBwkIwAdtB10HNwceBvAG+gZ/B2YGnQbsBuEFwQTlBNQFGwWoBFcFVgavBSUEAAAxAAAAAAB0A/IEIwTMA5IEHgWOBCkDigSbA1AD1wBOAsIC4AImA9cDbgTUBKkEUQUGBToEIwXTBCkDAAAAAMQB2gKYA7ADDgN/AjYCqAJyApsCJQI1AqoCRQIAAnECYwIzAr8BCQJAApsChAIMAoMCUAI9AusCqwKaAvEC",
          "dtype": "i2"
         },
         "yaxis": "y"
        },
        {
         "hovertemplate": "branch=Austin-Irving<br>date=%{x}<br>circulation=%{y}<extra></extra>",
         "legendgroup": "Austin-Irving",
         "line": {
          "color": "#ab63fa",
          "dash": "solid"
         },
         "marker": {
          "symbol": "circle"
         },
         "mode": "lines",
         "name": "Austin-Irving",
         "orientation": "v",
         "showlegend": true,
         "type": "scatter",
         "x": [
          "2011-01-01T00:00:00.000000000",
          "2011-02-01T00:00:00.000000000",
          "2011-03-01T00:00:00.000000000",
          "2011-04-01T00:00:00.000000000",
          "2011-05-01T00:00:00.000000000",
          "2011-06-01T00:00:00.000000000",
          "2011-07-01T00:00:00.000000000",
          "2011-08-01T00:00:00.000000000",
          "2011-09-01T00:00:00.000000000",
          "2011-10-01T00:00:00.000000000",
          "2011-11-01T00:00:00.000000000",
          "2011-12-01T00:00:00.000000000",
          "2012-01-01T00:00:00.000000000",
          "2012-02-01T00:00:00.000000000",
          "2012-03-01T00:00:00.000000000",
          "2012-04-01T00:00:00.000000000",
          "2012-05-01T00:00:00.000000000",
          "2012-06-01T00:00:00.000000000",
          "2012-07-01T00:00:00.000000000",
          "2012-08-01T00:00:00.000000000",
          "2012-09-01T00:00:00.000000000",
          "2012-10-01T00:00:00.000000000",
          "2012-11-01T00:00:00.000000000",
          "2012-12-01T00:00:00.000000000",
          "2013-01-01T00:00:00.000000000",
          "2013-02-01T00:00:00.000000000",
          "2013-03-01T00:00:00.000000000",
          "2013-04-01T00:00:00.000000000",
          "2013-05-01T00:00:00.000000000",
          "2013-06-01T00:00:00.000000000",
          "2013-07-01T00:00:00.000000000",
          "2013-08-01T00:00:00.000000000",
          "2013-09-01T00:00:00.000000000",
          "2013-10-01T00:00:00.000000000",
          "2013-11-01T00:00:00.000000000",
          "2013-12-01T00:00:00.000000000",
          "2014-01-01T00:00:00.000000000",
          "2014-02-01T00:00:00.000000000",
          "2014-03-01T00:00:00.000000000",
          "2014-04-01T00:00:00.000000000",
          "2014-05-01T00:00:00.000000000",
          "2014-06-01T00:00:00.000000000",
          "2014-07-01T00:00:00.000000000",
          "2014-08-01T00:00:00.000000000",
          "2014-09-01T00:00:00.000000000",
          "2014-10-01T00:00:00.000000000",
          "2014-11-01T00:00:00.000000000",
          "2014-12-01T00:00:00.000000000",
          "2015-01-01T00:00:00.000000000",
          "2015-02-01T00:00:00.000000000",
          "2015-03-01T00:00:00.000000000",
          "2015-04-01T00:00:00.000000000",
          "2015-05-01T00:00:00.000000000",
          "2015-06-01T00:00:00.000000000",
          "2015-07-01T00:00:00.000000000",
          "2015-08-01T00:00:00.000000000",
          "2015-09-01T00:00:00.000000000",
          "2015-10-01T00:00:00.000000000",
          "2015-11-01T00:00:00.000000000",
          "2015-12-01T00:00:00.000000000",
          "2016-01-01T00:00:00.000000000",
          "2016-02-01T00:00:00.000000000",
          "2016-03-01T00:00:00.000000000",
          "2016-04-01T00:00:00.000000000",
          "2016-05-01T00:00:00.000000000",
          "2016-06-01T00:00:00.000000000",
          "2016-07-01T00:00:00.000000000",
          "2016-08-01T00:00:00.000000000",
          "2016-09-01T00:00:00.000000000",
          "2016-10-01T00:00:00.000000000",
          "2016-11-01T00:00:00.000000000",
          "2016-12-01T00:00:00.000000000",
          "2017-01-01T00:00:00.000000000",
          "2017-02-01T00:00:00.000000000",
          "2017-03-01T00:00:00.000000000",
          "2017-04-01T00:00:00.000000000",
          "2017-05-01T00:00:00.000000000",
          "2017-06-01T00:00:00.000000000",
          "2017-07-01T00:00:00.000000000",
          "2017-08-01T00:00:00.000000000",
          "2017-09-01T00:00:00.000000000",
          "2017-10-01T00:00:00.000000000",
          "2017-11-01T00:00:00.000000000",
          "2017-12-01T00:00:00.000000000",
          "2018-01-01T00:00:00.000000000",
          "2018-02-01T00:00:00.000000000",
          "2018-03-01T00:00:00.000000000",
          "2018-04-01T00:00:00.000000000",
          "2018-05-01T00:00:00.000000000",
          "2018-06-01T00:00:00.000000000",
          "2018-07-01T00:00:00.000000000",
          "2018-08-01T00:00:00.000000000",
          "2018-09-01T00:00:00.000000000",
          "2018-10-01T00:00:00.000000000",
          "2018-11-01T00:00:00.000000000",
          "2018-12-01T00:00:00.000000000",
          "2019-01-01T00:00:00.000000000",
          "2019-02-01T00:00:00.000000000",
          "2019-03-01T00:00:00.000000000",
          "2019-04-01T00:00:00.000000000",
          "2019-05-01T00:00:00.000000000",
          "2019-06-01T00:00:00.000000000",
          "2019-07-01T00:00:00.000000000",
          "2019-08-01T00:00:00.000000000",
          "2019-09-01T00:00:00.000000000",
          "2019-10-01T00:00:00.000000000",
          "2019-11-01T00:00:00.000000000",
          "2019-12-01T00:00:00.000000000",
          "2020-01-01T00:00:00.000000000",
          "2020-02-01T00:00:00.000000000",
          "2020-03-01T00:00:00.000000000",
          "2020-04-01T00:00:00.000000000",
          "2020-05-01T00:00:00.000000000",
          "2020-06-01T00:00:00.000000000",
          "2020-07-01T00:00:00.000000000",
          "2020-08-01T00:00:00.000000000",
          "2020-09-01T00:00:00.000000000",
          "2020-10-01T00:00:00.000000000",
          "2020-11-01T00:00:00.000000000",
          "2020-12-01T00:00:00.000000000",
          "2021-01-01T00:00:00.000000000",
          "2021-02-01T00:00:00.000000000",
          "2021-03-01T00:00:00.000000000",
          "2021-04-01T00:00:00.000000000",
          "2021-05-01T00:00:00.000000000",
          "2021-06-01T00:00:00.000000000",
          "2021-07-01T00:00:00.000000000",
          "2021-08-01T00:00:00.000000000",
          "2021-09-01T00:00:00.000000000",
          "2021-10-01T00:00:00.000000000",
          "2021-11-01T00:00:00.000000000",
          "2021-12-01T00:00:00.000000000",
          "2022-01-01T00:00:00.000000000",
          "2022-02-01T00:00:00.000000000",
          "2022-03-01T00:00:00.000000000",
          "2022-04-01T00:00:00.000000000",
          "2022-05-01T00:00:00.000000000",
          "2022-06-01T00:00:00.000000000",
          "2022-07-01T00:00:00.000000000",
          "2022-08-01T00:00:00.000000000",
          "2022-09-01T00:00:00.000000000",
          "2022-10-01T00:00:00.000000000",
          "2022-11-01T00:00:00.000000000",
          "2022-12-01T00:00:00.000000000"
         ],
         "xaxis": "x",
         "y": {
          "bdata": "MTEPLtc5LjjqLUI4DTk8O+I3/Tv1NnQwzzCxMjk0gDFmLQQ0PjVINeI2Gjh1NEMukTKkLUM1XzF9LREu/zf2Lp8tCjA8McAloCdSJdIsHizGJ80rxS9VK9kq7izwJkojMSnzIBUqBiepJCAqaC2WK7AnaCqcJSUjMiYuJ5grPClAIYMngChdKQol3SZiI+cgOiVjIcEmUSOhGvwlNynLJzEkxSWdI7oedSTPHuEo9CIKH2Mloya6I64g2ySeI9IfziUkJl0qLSkjJrIsci03K6MkzCZ3IVwZxR4HHI0SAAAAAO0P6hcKF90Y7RaPEe0PaxKIEKQWbRLqFPwXhBd1Fr8UaBVuEl4SvhP5EpsW5BUSEvsWtBfKFisVNRNwE2kR",
          "dtype": "i2"
         },
         "yaxis": "y"
        },
        {
         "hovertemplate": "branch=Avalon<br>date=%{x}<br>circulation=%{y}<extra></extra>",
         "legendgroup": "Avalon",
         "line": {
          "color": "#FFA15A",
          "dash": "solid"
         },
         "marker": {
          "symbol": "circle"
         },
         "mode": "lines",
         "name": "Avalon",
         "orientation": "v",
         "showlegend": true,
         "type": "scatter",
         "x": [
          "2011-01-01T00:00:00.000000000",
          "2011-02-01T00:00:00.000000000",
          "2011-03-01T00:00:00.000000000",
          "2011-04-01T00:00:00.000000000",
          "2011-05-01T00:00:00.000000000",
          "2011-06-01T00:00:00.000000000",
          "2011-07-01T00:00:00.000000000",
          "2011-08-01T00:00:00.000000000",
          "2011-09-01T00:00:00.000000000",
          "2011-10-01T00:00:00.000000000",
          "2011-11-01T00:00:00.000000000",
          "2011-12-01T00:00:00.000000000",
          "2012-01-01T00:00:00.000000000",
          "2012-02-01T00:00:00.000000000",
          "2012-03-01T00:00:00.000000000",
          "2012-04-01T00:00:00.000000000",
          "2012-05-01T00:00:00.000000000",
          "2012-06-01T00:00:00.000000000",
          "2012-07-01T00:00:00.000000000",
          "2012-08-01T00:00:00.000000000",
          "2012-09-01T00:00:00.000000000",
          "2012-10-01T00:00:00.000000000",
          "2012-11-01T00:00:00.000000000",
          "2012-12-01T00:00:00.000000000",
          "2013-01-01T00:00:00.000000000",
          "2013-02-01T00:00:00.000000000",
          "2013-03-01T00:00:00.000000000",
          "2013-04-01T00:00:00.000000000",
          "2013-05-01T00:00:00.000000000",
          "2013-06-01T00:00:00.000000000",
          "2013-07-01T00:00:00.000000000",
          "2013-08-01T00:00:00.000000000",
          "2013-09-01T00:00:00.000000000",
          "2013-10-01T00:00:00.000000000",
          "2013-11-01T00:00:00.000000000",
          "2013-12-01T00:00:00.000000000",
          "2014-01-01T00:00:00.000000000",
          "2014-02-01T00:00:00.000000000",
          "2014-03-01T00:00:00.000000000",
          "2014-04-01T00:00:00.000000000",
          "2014-05-01T00:00:00.000000000",
          "2014-06-01T00:00:00.000000000",
          "2014-07-01T00:00:00.000000000",
          "2014-08-01T00:00:00.000000000",
          "2014-09-01T00:00:00.000000000",
          "2014-10-01T00:00:00.000000000",
          "2014-11-01T00:00:00.000000000",
          "2014-12-01T00:00:00.000000000",
          "2015-01-01T00:00:00.000000000",
          "2015-02-01T00:00:00.000000000",
          "2015-03-01T00:00:00.000000000",
          "2015-04-01T00:00:00.000000000",
          "2015-05-01T00:00:00.000000000",
          "2015-06-01T00:00:00.000000000",
          "2015-07-01T00:00:00.000000000",
          "2015-08-01T00:00:00.000000000",
          "2015-09-01T00:00:00.000000000",
          "2015-10-01T00:00:00.000000000",
          "2015-11-01T00:00:00.000000000",
          "2015-12-01T00:00:00.000000000",
          "2016-01-01T00:00:00.000000000",
          "2016-02-01T00:00:00.000000000",
          "2016-03-01T00:00:00.000000000",
          "2016-04-01T00:00:00.000000000",
          "2016-05-01T00:00:00.000000000",
          "2016-06-01T00:00:00.000000000",
          "2016-07-01T00:00:00.000000000",
          "2016-08-01T00:00:00.000000000",
          "2016-09-01T00:00:00.000000000",
          "2016-10-01T00:00:00.000000000",
          "2016-11-01T00:00:00.000000000",
          "2016-12-01T00:00:00.000000000",
          "2017-01-01T00:00:00.000000000",
          "2017-02-01T00:00:00.000000000",
          "2017-03-01T00:00:00.000000000",
          "2017-04-01T00:00:00.000000000",
          "2017-05-01T00:00:00.000000000",
          "2017-06-01T00:00:00.000000000",
          "2017-07-01T00:00:00.000000000",
          "2017-08-01T00:00:00.000000000",
          "2017-09-01T00:00:00.000000000",
          "2017-10-01T00:00:00.000000000",
          "2017-11-01T00:00:00.000000000",
          "2017-12-01T00:00:00.000000000",
          "2018-01-01T00:00:00.000000000",
          "2018-02-01T00:00:00.000000000",
          "2018-03-01T00:00:00.000000000",
          "2018-04-01T00:00:00.000000000",
          "2018-05-01T00:00:00.000000000",
          "2018-06-01T00:00:00.000000000",
          "2018-07-01T00:00:00.000000000",
          "2018-08-01T00:00:00.000000000",
          "2018-09-01T00:00:00.000000000",
          "2018-10-01T00:00:00.000000000",
          "2018-11-01T00:00:00.000000000",
          "2018-12-01T00:00:00.000000000",
          "2019-01-01T00:00:00.000000000",
          "2019-02-01T00:00:00.000000000",
          "2019-03-01T00:00:00.000000000",
          "2019-04-01T00:00:00.000000000",
          "2019-05-01T00:00:00.000000000",
          "2019-06-01T00:00:00.000000000",
          "2019-07-01T00:00:00.000000000",
          "2019-08-01T00:00:00.000000000",
          "2019-09-01T00:00:00.000000000",
          "2019-10-01T00:00:00.000000000",
          "2019-11-01T00:00:00.000000000",
          "2019-12-01T00:00:00.000000000",
          "2020-01-01T00:00:00.000000000",
          "2020-02-01T00:00:00.000000000",
          "2020-03-01T00:00:00.000000000",
          "2020-04-01T00:00:00.000000000",
          "2020-05-01T00:00:00.000000000",
          "2020-06-01T00:00:00.000000000",
          "2020-07-01T00:00:00.000000000",
          "2020-08-01T00:00:00.000000000",
          "2020-09-01T00:00:00.000000000",
          "2020-10-01T00:00:00.000000000",
          "2020-11-01T00:00:00.000000000",
          "2020-12-01T00:00:00.000000000",
          "2021-01-01T00:00:00.000000000",
          "2021-02-01T00:00:00.000000000",
          "2021-03-01T00:00:00.000000000",
          "2021-04-01T00:00:00.000000000",
          "2021-05-01T00:00:00.000000000",
          "2021-06-01T00:00:00.000000000",
          "2021-07-01T00:00:00.000000000",
          "2021-08-01T00:00:00.000000000",
          "2021-09-01T00:00:00.000000000",
          "2021-10-01T00:00:00.000000000",
          "2021-11-01T00:00:00.000000000",
          "2021-12-01T00:00:00.000000000",
          "2022-01-01T00:00:00.000000000",
          "2022-02-01T00:00:00.000000000",
          "2022-03-01T00:00:00.000000000",
          "2022-04-01T00:00:00.000000000",
          "2022-05-01T00:00:00.000000000",
          "2022-06-01T00:00:00.000000000",
          "2022-07-01T00:00:00.000000000",
          "2022-08-01T00:00:00.000000000",
          "2022-09-01T00:00:00.000000000",
          "2022-10-01T00:00:00.000000000",
          "2022-11-01T00:00:00.000000000",
          "2022-12-01T00:00:00.000000000"
         ],
         "xaxis": "x",
         "y": {
          "bdata": "IBYPETEXXBfcFY4YKBgVG64ZKxvhF68UixWqFFUWlhR5Ey4VpxW0F3EYURrgFIESYhOIEfgSMBMJFPAUVhbKE0AS8RPbEiQOGRHQDiQR3RHREsIUFRXhEh0UJRSmEpgQ3hDgDIcQrxDND8UR6hCjEHgQLBH4DiYNshAiD5IP5Q+2DI0OnhDiEegOOA9rEL0O5g6UD8QOmQ+FDQIOVQ01D8gPBROBD2cMPA6UDLYOJwyIDS0M5A3dDLsMEg0VC9MKXgsUCw4MUAx+C88MhA3SDV4LOAwZCl4K4wnECAYHAAAAAJUDugVFBQcGjwd/BUkGPgVLBNkE8ARYBWIF2gSYBTUGxAVLBcEE1AQIBGIFsQUwBVIFtgUzBt4EEgXOBLcD",
          "dtype": "i2"
         },
         "yaxis": "y"
        }
       ],
       "layout": {
        "legend": {
         "title": {
          "text": "branch"
         },
         "tracegroupgap": 0
        },
        "template": {
         "data": {
          "bar": [
           {
            "error_x": {
             "color": "#2a3f5f"
            },
            "error_y": {
             "color": "#2a3f5f"
            },
            "marker": {
             "line": {
              "color": "#E5ECF6",
              "width": 0.5
             },
             "pattern": {
              "fillmode": "overlay",
              "size": 10,
              "solidity": 0.2
             }
            },
            "type": "bar"
           }
          ],
          "barpolar": [
           {
            "marker": {
             "line": {
              "color": "#E5ECF6",
              "width": 0.5
             },
             "pattern": {
              "fillmode": "overlay",
              "size": 10,
              "solidity": 0.2
             }
            },
            "type": "barpolar"
           }
          ],
          "carpet": [
           {
            "aaxis": {
             "endlinecolor": "#2a3f5f",
             "gridcolor": "white",
             "linecolor": "white",
             "minorgridcolor": "white",
             "startlinecolor": "#2a3f5f"
            },
            "baxis": {
             "endlinecolor": "#2a3f5f",
             "gridcolor": "white",
             "linecolor": "white",
             "minorgridcolor": "white",
             "startlinecolor": "#2a3f5f"
            },
            "type": "carpet"
           }
          ],
          "choropleth": [
           {
            "colorbar": {
             "outlinewidth": 0,
             "ticks": ""
            },
            "type": "choropleth"
           }
          ],
          "contour": [
           {
            "colorbar": {
             "outlinewidth": 0,
             "ticks": ""
            },
            "colorscale": [
             [
              0,
              "#0d0887"
             ],
             [
              0.1111111111111111,
              "#46039f"
             ],
             [
              0.2222222222222222,
              "#7201a8"
             ],
             [
              0.3333333333333333,
              "#9c179e"
             ],
             [
              0.4444444444444444,
              "#bd3786"
             ],
             [
              0.5555555555555556,
              "#d8576b"
             ],
             [
              0.6666666666666666,
              "#ed7953"
             ],
             [
              0.7777777777777778,
              "#fb9f3a"
             ],
             [
              0.8888888888888888,
              "#fdca26"
             ],
             [
              1,
              "#f0f921"
             ]
            ],
            "type": "contour"
           }
          ],
          "contourcarpet": [
           {
            "colorbar": {
             "outlinewidth": 0,
             "ticks": ""
            },
            "type": "contourcarpet"
           }
          ],
          "heatmap": [
           {
            "colorbar": {
             "outlinewidth": 0,
             "ticks": ""
            },
            "colorscale": [
             [
              0,
              "#0d0887"
             ],
             [
              0.1111111111111111,
              "#46039f"
             ],
             [
              0.2222222222222222,
              "#7201a8"
             ],
             [
              0.3333333333333333,
              "#9c179e"
             ],
             [
              0.4444444444444444,
              "#bd3786"
             ],
             [
              0.5555555555555556,
              "#d8576b"
             ],
             [
              0.6666666666666666,
              "#ed7953"
             ],
             [
              0.7777777777777778,
              "#fb9f3a"
             ],
             [
              0.8888888888888888,
              "#fdca26"
             ],
             [
              1,
              "#f0f921"
             ]
            ],
            "type": "heatmap"
           }
          ],
          "histogram": [
           {
            "marker": {
             "pattern": {
              "fillmode": "overlay",
              "size": 10,
              "solidity": 0.2
             }
            },
            "type": "histogram"
           }
          ],
          "histogram2d": [
           {
            "colorbar": {
             "outlinewidth": 0,
             "ticks": ""
            },
            "colorscale": [
             [
              0,
              "#0d0887"
             ],
             [
              0.1111111111111111,
              "#46039f"
             ],
             [
              0.2222222222222222,
              "#7201a8"
             ],
             [
              0.3333333333333333,
              "#9c179e"
             ],
             [
              0.4444444444444444,
              "#bd3786"
             ],
             [
              0.5555555555555556,
              "#d8576b"
             ],
             [
              0.6666666666666666,
              "#ed7953"
             ],
             [
              0.7777777777777778,
              "#fb9f3a"
             ],
             [
              0.8888888888888888,
              "#fdca26"
             ],
             [
              1,
              "#f0f921"
             ]
            ],
            "type": "histogram2d"
           }
          ],
          "histogram2dcontour": [
           {
            "colorbar": {
             "outlinewidth": 0,
             "ticks": ""
            },
            "colorscale": [
             [
              0,
              "#0d0887"
             ],
             [
              0.1111111111111111,
              "#46039f"
             ],
             [
              0.2222222222222222,
              "#7201a8"
             ],
             [
              0.3333333333333333,
              "#9c179e"
             ],
             [
              0.4444444444444444,
              "#bd3786"
             ],
             [
              0.5555555555555556,
              "#d8576b"
             ],
             [
              0.6666666666666666,
              "#ed7953"
             ],
             [
              0.7777777777777778,
              "#fb9f3a"
             ],
             [
              0.8888888888888888,
              "#fdca26"
             ],
             [
              1,
              "#f0f921"
             ]
            ],
            "type": "histogram2dcontour"
           }
          ],
          "mesh3d": [
           {
            "colorbar": {
             "outlinewidth": 0,
             "ticks": ""
            },
            "type": "mesh3d"
           }
          ],
          "parcoords": [
           {
            "line": {
             "colorbar": {
              "outlinewidth": 0,
              "ticks": ""
             }
            },
            "type": "parcoords"
           }
          ],
          "pie": [
           {
            "automargin": true,
            "type": "pie"
           }
          ],
          "scatter": [
           {
            "fillpattern": {
             "fillmode": "overlay",
             "size": 10,
             "solidity": 0.2
            },
            "type": "scatter"
           }
          ],
          "scatter3d": [
           {
            "line": {
             "colorbar": {
              "outlinewidth": 0,
              "ticks": ""
             }
            },
            "marker": {
             "colorbar": {
              "outlinewidth": 0,
              "ticks": ""
             }
            },
            "type": "scatter3d"
           }
          ],
          "scattercarpet": [
           {
            "marker": {
             "colorbar": {
              "outlinewidth": 0,
              "ticks": ""
             }
            },
            "type": "scattercarpet"
           }
          ],
          "scattergeo": [
           {
            "marker": {
             "colorbar": {
              "outlinewidth": 0,
              "ticks": ""
             }
            },
            "type": "scattergeo"
           }
          ],
          "scattergl": [
           {
            "marker": {
             "colorbar": {
              "outlinewidth": 0,
              "ticks": ""
             }
            },
            "type": "scattergl"
           }
          ],
          "scattermap": [
           {
            "marker": {
             "colorbar": {
              "outlinewidth": 0,
              "ticks": ""
             }
            },
            "type": "scattermap"
           }
          ],
          "scattermapbox": [
           {
            "marker": {
             "colorbar": {
              "outlinewidth": 0,
              "ticks": ""
             }
            },
            "type": "scattermapbox"
           }
          ],
          "scatterpolar": [
           {
            "marker": {
             "colorbar": {
              "outlinewidth": 0,
              "ticks": ""
             }
            },
            "type": "scatterpolar"
           }
          ],
          "scatterpolargl": [
           {
            "marker": {
             "colorbar": {
              "outlinewidth": 0,
              "ticks": ""
             }
            },
            "type": "scatterpolargl"
           }
          ],
          "scatterternary": [
           {
            "marker": {
             "colorbar": {
              "outlinewidth": 0,
              "ticks": ""
             }
            },
            "type": "scatterternary"
           }
          ],
          "surface": [
           {
            "colorbar": {
             "outlinewidth": 0,
             "ticks": ""
            },
            "colorscale": [
             [
              0,
              "#0d0887"
             ],
             [
              0.1111111111111111,
              "#46039f"
             ],
             [
              0.2222222222222222,
              "#7201a8"
             ],
             [
              0.3333333333333333,
              "#9c179e"
             ],
             [
              0.4444444444444444,
              "#bd3786"
             ],
             [
              0.5555555555555556,
              "#d8576b"
             ],
             [
              0.6666666666666666,
              "#ed7953"
             ],
             [
              0.7777777777777778,
              "#fb9f3a"
             ],
             [
              0.8888888888888888,
              "#fdca26"
             ],
             [
              1,
              "#f0f921"
             ]
            ],
            "type": "surface"
           }
          ],
          "table": [
           {
            "cells": {
             "fill": {
              "color": "#EBF0F8"
             },
             "line": {
              "color": "white"
             }
            },
            "header": {
             "fill": {
              "color": "#C8D4E3"
             },
             "line": {
              "color": "white"
             }
            },
            "type": "table"
           }
          ]
         },
         "layout": {
          "annotationdefaults": {
           "arrowcolor": "#2a3f5f",
           "arrowhead": 0,
           "arrowwidth": 1
          },
          "autotypenumbers": "strict",
          "coloraxis": {
           "colorbar": {
            "outlinewidth": 0,
            "ticks": ""
           }
          },
          "colorscale": {
           "diverging": [
            [
             0,
             "#8e0152"
            ],
            [
             0.1,
             "#c51b7d"
            ],
            [
             0.2,
             "#de77ae"
            ],
            [
             0.3,
             "#f1b6da"
            ],
            [
             0.4,
             "#fde0ef"
            ],
            [
             0.5,
             "#f7f7f7"
            ],
            [
             0.6,
             "#e6f5d0"
            ],
            [
             0.7,
             "#b8e186"
            ],
            [
             0.8,
             "#7fbc41"
            ],
            [
             0.9,
             "#4d9221"
            ],
            [
             1,
             "#276419"
            ]
           ],
           "sequential": [
            [
             0,
             "#0d0887"
            ],
            [
             0.1111111111111111,
             "#46039f"
            ],
            [
             0.2222222222222222,
             "#7201a8"
            ],
            [
             0.3333333333333333,
             "#9c179e"
            ],
            [
             0.4444444444444444,
             "#bd3786"
            ],
            [
             0.5555555555555556,
             "#d8576b"
            ],
            [
             0.6666666666666666,
             "#ed7953"
            ],
            [
             0.7777777777777778,
             "#fb9f3a"
            ],
            [
             0.8888888888888888,
             "#fdca26"
            ],
            [
             1,
             "#f0f921"
            ]
           ],
           "sequentialminus": [
            [
             0,
             "#0d0887"
            ],
            [
             0.1111111111111111,
             "#46039f"
            ],
            [
             0.2222222222222222,
             "#7201a8"
            ],
            [
             0.3333333333333333,
             "#9c179e"
            ],
            [
             0.4444444444444444,
             "#bd3786"
            ],
            [
             0.5555555555555556,
             "#d8576b"
            ],
            [
             0.6666666666666666,
             "#ed7953"
            ],
            [
             0.7777777777777778,
             "#fb9f3a"
            ],
            [
             0.8888888888888888,
             "#fdca26"
            ],
            [
             1,
             "#f0f921"
            ]
           ]
          },
          "colorway": [
           "#636efa",
           "#EF553B",
           "#00cc96",
           "#ab63fa",
           "#FFA15A",
           "#19d3f3",
           "#FF6692",
           "#B6E880",
           "#FF97FF",
           "#FECB52"
          ],
          "font": {
           "color": "#2a3f5f"
          },
          "geo": {
           "bgcolor": "white",
           "lakecolor": "white",
           "landcolor": "#E5ECF6",
           "showlakes": true,
           "showland": true,
           "subunitcolor": "white"
          },
          "hoverlabel": {
           "align": "left"
          },
          "hovermode": "closest",
          "mapbox": {
           "style": "light"
          },
          "paper_bgcolor": "white",
          "plot_bgcolor": "#E5ECF6",
          "polar": {
           "angularaxis": {
            "gridcolor": "white",
            "linecolor": "white",
            "ticks": ""
           },
           "bgcolor": "#E5ECF6",
           "radialaxis": {
            "gridcolor": "white",
            "linecolor": "white",
            "ticks": ""
           }
          },
          "scene": {
           "xaxis": {
            "backgroundcolor": "#E5ECF6",
            "gridcolor": "white",
            "gridwidth": 2,
            "linecolor": "white",
            "showbackground": true,
            "ticks": "",
            "zerolinecolor": "white"
           },
           "yaxis": {
            "backgroundcolor": "#E5ECF6",
            "gridcolor": "white",
            "gridwidth": 2,
            "linecolor": "white",
            "showbackground": true,
            "ticks": "",
            "zerolinecolor": "white"
           },
           "zaxis": {
            "backgroundcolor": "#E5ECF6",
            "gridcolor": "white",
            "gridwidth": 2,
            "linecolor": "white",
            "showbackground": true,
            "ticks": "",
            "zerolinecolor": "white"
           }
          },
          "shapedefaults": {
           "line": {
            "color": "#2a3f5f"
           }
          },
          "ternary": {
           "aaxis": {
            "gridcolor": "white",
            "linecolor": "white",
            "ticks": ""
           },
           "baxis": {
            "gridcolor": "white",
            "linecolor": "white",
            "ticks": ""
           },
           "bgcolor": "#E5ECF6",
           "caxis": {
            "gridcolor": "white",
            "linecolor": "white",
            "ticks": ""
           }
          },
          "title": {
           "x": 0.05
          },
          "xaxis": {
           "automargin": true,
           "gridcolor": "white",
           "linecolor": "white",
           "ticks": "",
           "title": {
            "standoff": 15
           },
           "zerolinecolor": "white",
           "zerolinewidth": 2
          },
          "yaxis": {
           "automargin": true,
           "gridcolor": "white",
           "linecolor": "white",
           "ticks": "",
           "title": {
            "standoff": 15
           },
           "zerolinecolor": "white",
           "zerolinewidth": 2
          }
         }
        },
        "title": {
         "text": "Circulation Over Time for Selected Branches"
        },
        "xaxis": {
         "anchor": "y",
         "domain": [
          0,
          1
         ],
         "title": {
          "text": "date"
         }
        },
        "yaxis": {
         "anchor": "x",
         "domain": [
          0,
          1
         ],
         "title": {
          "text": "circulation"
         }
        }
       }
      }
     },
     "metadata": {},
     "output_type": "display_data"
    }
   ],
   "source": [
    "fig = px.line(selected_branches, x=selected_branches.index, y='circulation', color='branch', title='Circulation Over Time for Selected Branches')\n",
    "fig.show()"
   ]
  },
  {
   "cell_type": "code",
   "execution_count": 30,
   "id": "56566cdb",
   "metadata": {},
   "outputs": [
    {
     "data": {
      "application/vnd.plotly.v1+json": {
       "config": {
        "plotlyServerURL": "https://plot.ly"
       },
       "data": [
        {
         "hovertemplate": "branch=%{x}<br>circulation=%{y}<extra></extra>",
         "legendgroup": "",
         "marker": {
          "color": "#636efa",
          "pattern": {
           "shape": ""
          }
         },
         "name": "",
         "orientation": "v",
         "showlegend": false,
         "textposition": "auto",
         "type": "bar",
         "x": [
          "Albany Park",
          "Altgeld",
          "Archer Heights",
          "Austin",
          "Austin-Irving",
          "Avalon",
          "Back of the Yards",
          "Beverly",
          "Bezazian",
          "Blackstone",
          "Brainerd",
          "Brighton Park",
          "Bucktown-Wicker Park",
          "Budlong Woods",
          "Canaryville",
          "Chicago Bee",
          "Chicago Lawn",
          "Chinatown",
          "Clearing",
          "Coleman",
          "Daley, Richard J. - Bridgeport",
          "Daley, Richard M. - W Humboldt",
          "Douglass",
          "Dunning",
          "Edgebrook",
          "Edgewater",
          "Gage Park",
          "Galewood-Mont Clare",
          "Garfield Ridge",
          "Greater Grand Crossing",
          "Hall",
          "Harold Washington Library Center",
          "Hegewisch",
          "Humboldt Park",
          "Independence",
          "Jefferson Park",
          "Jeffery Manor",
          "Kelly",
          "King",
          "Legler Regional",
          "Lincoln Belmont",
          "Lincoln Park",
          "Little Italy",
          "Little Village",
          "Logan Square",
          "Lozano",
          "Manning",
          "Mayfair",
          "McKinley Park",
          "Merlo",
          "Mount Greenwood",
          "Near North",
          "North Austin",
          "North Pulaski",
          "Northtown",
          "Oriole Park",
          "Portage-Cragin",
          "Pullman",
          "Roden",
          "Rogers Park",
          "Roosevelt",
          "Scottsdale",
          "Sherman Park",
          "South Chicago",
          "South Shore",
          "Sulzer Regional",
          "Thurgood Marshall",
          "Toman",
          "Uptown",
          "Vodak-East Side",
          "Walker",
          "Water Works",
          "West Belmont",
          "West Chicago Avenue",
          "West Englewood",
          "West Lawn",
          "West Loop",
          "West Pullman",
          "West Town",
          "Whitney M. Young, Jr.",
          "Woodson Regional",
          "Wrightwood-Ashburn"
         ],
         "xaxis": "x",
         "y": {
          "bdata": "yqIPAAYLAQDGQAwAqw0DAFS/FABw9AcAst8EALhRCwBiuBQA+sESAIn/AQAUIAoAHToWAOP9EwAyEgQAnlECAHtiBwBgIxMAIbMHAF2KBQCdQQwAbNoGAHHDAgBCxgoAE0oSAFV2GQCIgQMANIkBAAffCgDjIgQAi2QDADlpcgATvAQAEHMKABNpDAB80Q4ATvcBAL8HAgDNFQUABlwCAFQ+HACV/RUAXPECAMn7CgDofhcA/LIJAL2qBACswAkAo34MAEetEADi5gsATwkUAJs5AwDx7AYAWIgUAPgTDwDHQg4AnccCAMB0DAApNBcAu54IAG8rBgA17gEAWkYFAHdpBQDl+U0Ax80EAIPnDADwWw8ADNMHAPCnBAAFNAcAuUoOAI6UAgDA5wIANKwJAAb3AgCfgQQA/BQOAGD2AwDxkQwAzZwEAA==",
          "dtype": "i4"
         },
         "yaxis": "y"
        }
       ],
       "layout": {
        "barmode": "relative",
        "legend": {
         "tracegroupgap": 0
        },
        "template": {
         "data": {
          "bar": [
           {
            "error_x": {
             "color": "#2a3f5f"
            },
            "error_y": {
             "color": "#2a3f5f"
            },
            "marker": {
             "line": {
              "color": "#E5ECF6",
              "width": 0.5
             },
             "pattern": {
              "fillmode": "overlay",
              "size": 10,
              "solidity": 0.2
             }
            },
            "type": "bar"
           }
          ],
          "barpolar": [
           {
            "marker": {
             "line": {
              "color": "#E5ECF6",
              "width": 0.5
             },
             "pattern": {
              "fillmode": "overlay",
              "size": 10,
              "solidity": 0.2
             }
            },
            "type": "barpolar"
           }
          ],
          "carpet": [
           {
            "aaxis": {
             "endlinecolor": "#2a3f5f",
             "gridcolor": "white",
             "linecolor": "white",
             "minorgridcolor": "white",
             "startlinecolor": "#2a3f5f"
            },
            "baxis": {
             "endlinecolor": "#2a3f5f",
             "gridcolor": "white",
             "linecolor": "white",
             "minorgridcolor": "white",
             "startlinecolor": "#2a3f5f"
            },
            "type": "carpet"
           }
          ],
          "choropleth": [
           {
            "colorbar": {
             "outlinewidth": 0,
             "ticks": ""
            },
            "type": "choropleth"
           }
          ],
          "contour": [
           {
            "colorbar": {
             "outlinewidth": 0,
             "ticks": ""
            },
            "colorscale": [
             [
              0,
              "#0d0887"
             ],
             [
              0.1111111111111111,
              "#46039f"
             ],
             [
              0.2222222222222222,
              "#7201a8"
             ],
             [
              0.3333333333333333,
              "#9c179e"
             ],
             [
              0.4444444444444444,
              "#bd3786"
             ],
             [
              0.5555555555555556,
              "#d8576b"
             ],
             [
              0.6666666666666666,
              "#ed7953"
             ],
             [
              0.7777777777777778,
              "#fb9f3a"
             ],
             [
              0.8888888888888888,
              "#fdca26"
             ],
             [
              1,
              "#f0f921"
             ]
            ],
            "type": "contour"
           }
          ],
          "contourcarpet": [
           {
            "colorbar": {
             "outlinewidth": 0,
             "ticks": ""
            },
            "type": "contourcarpet"
           }
          ],
          "heatmap": [
           {
            "colorbar": {
             "outlinewidth": 0,
             "ticks": ""
            },
            "colorscale": [
             [
              0,
              "#0d0887"
             ],
             [
              0.1111111111111111,
              "#46039f"
             ],
             [
              0.2222222222222222,
              "#7201a8"
             ],
             [
              0.3333333333333333,
              "#9c179e"
             ],
             [
              0.4444444444444444,
              "#bd3786"
             ],
             [
              0.5555555555555556,
              "#d8576b"
             ],
             [
              0.6666666666666666,
              "#ed7953"
             ],
             [
              0.7777777777777778,
              "#fb9f3a"
             ],
             [
              0.8888888888888888,
              "#fdca26"
             ],
             [
              1,
              "#f0f921"
             ]
            ],
            "type": "heatmap"
           }
          ],
          "histogram": [
           {
            "marker": {
             "pattern": {
              "fillmode": "overlay",
              "size": 10,
              "solidity": 0.2
             }
            },
            "type": "histogram"
           }
          ],
          "histogram2d": [
           {
            "colorbar": {
             "outlinewidth": 0,
             "ticks": ""
            },
            "colorscale": [
             [
              0,
              "#0d0887"
             ],
             [
              0.1111111111111111,
              "#46039f"
             ],
             [
              0.2222222222222222,
              "#7201a8"
             ],
             [
              0.3333333333333333,
              "#9c179e"
             ],
             [
              0.4444444444444444,
              "#bd3786"
             ],
             [
              0.5555555555555556,
              "#d8576b"
             ],
             [
              0.6666666666666666,
              "#ed7953"
             ],
             [
              0.7777777777777778,
              "#fb9f3a"
             ],
             [
              0.8888888888888888,
              "#fdca26"
             ],
             [
              1,
              "#f0f921"
             ]
            ],
            "type": "histogram2d"
           }
          ],
          "histogram2dcontour": [
           {
            "colorbar": {
             "outlinewidth": 0,
             "ticks": ""
            },
            "colorscale": [
             [
              0,
              "#0d0887"
             ],
             [
              0.1111111111111111,
              "#46039f"
             ],
             [
              0.2222222222222222,
              "#7201a8"
             ],
             [
              0.3333333333333333,
              "#9c179e"
             ],
             [
              0.4444444444444444,
              "#bd3786"
             ],
             [
              0.5555555555555556,
              "#d8576b"
             ],
             [
              0.6666666666666666,
              "#ed7953"
             ],
             [
              0.7777777777777778,
              "#fb9f3a"
             ],
             [
              0.8888888888888888,
              "#fdca26"
             ],
             [
              1,
              "#f0f921"
             ]
            ],
            "type": "histogram2dcontour"
           }
          ],
          "mesh3d": [
           {
            "colorbar": {
             "outlinewidth": 0,
             "ticks": ""
            },
            "type": "mesh3d"
           }
          ],
          "parcoords": [
           {
            "line": {
             "colorbar": {
              "outlinewidth": 0,
              "ticks": ""
             }
            },
            "type": "parcoords"
           }
          ],
          "pie": [
           {
            "automargin": true,
            "type": "pie"
           }
          ],
          "scatter": [
           {
            "fillpattern": {
             "fillmode": "overlay",
             "size": 10,
             "solidity": 0.2
            },
            "type": "scatter"
           }
          ],
          "scatter3d": [
           {
            "line": {
             "colorbar": {
              "outlinewidth": 0,
              "ticks": ""
             }
            },
            "marker": {
             "colorbar": {
              "outlinewidth": 0,
              "ticks": ""
             }
            },
            "type": "scatter3d"
           }
          ],
          "scattercarpet": [
           {
            "marker": {
             "colorbar": {
              "outlinewidth": 0,
              "ticks": ""
             }
            },
            "type": "scattercarpet"
           }
          ],
          "scattergeo": [
           {
            "marker": {
             "colorbar": {
              "outlinewidth": 0,
              "ticks": ""
             }
            },
            "type": "scattergeo"
           }
          ],
          "scattergl": [
           {
            "marker": {
             "colorbar": {
              "outlinewidth": 0,
              "ticks": ""
             }
            },
            "type": "scattergl"
           }
          ],
          "scattermap": [
           {
            "marker": {
             "colorbar": {
              "outlinewidth": 0,
              "ticks": ""
             }
            },
            "type": "scattermap"
           }
          ],
          "scattermapbox": [
           {
            "marker": {
             "colorbar": {
              "outlinewidth": 0,
              "ticks": ""
             }
            },
            "type": "scattermapbox"
           }
          ],
          "scatterpolar": [
           {
            "marker": {
             "colorbar": {
              "outlinewidth": 0,
              "ticks": ""
             }
            },
            "type": "scatterpolar"
           }
          ],
          "scatterpolargl": [
           {
            "marker": {
             "colorbar": {
              "outlinewidth": 0,
              "ticks": ""
             }
            },
            "type": "scatterpolargl"
           }
          ],
          "scatterternary": [
           {
            "marker": {
             "colorbar": {
              "outlinewidth": 0,
              "ticks": ""
             }
            },
            "type": "scatterternary"
           }
          ],
          "surface": [
           {
            "colorbar": {
             "outlinewidth": 0,
             "ticks": ""
            },
            "colorscale": [
             [
              0,
              "#0d0887"
             ],
             [
              0.1111111111111111,
              "#46039f"
             ],
             [
              0.2222222222222222,
              "#7201a8"
             ],
             [
              0.3333333333333333,
              "#9c179e"
             ],
             [
              0.4444444444444444,
              "#bd3786"
             ],
             [
              0.5555555555555556,
              "#d8576b"
             ],
             [
              0.6666666666666666,
              "#ed7953"
             ],
             [
              0.7777777777777778,
              "#fb9f3a"
             ],
             [
              0.8888888888888888,
              "#fdca26"
             ],
             [
              1,
              "#f0f921"
             ]
            ],
            "type": "surface"
           }
          ],
          "table": [
           {
            "cells": {
             "fill": {
              "color": "#EBF0F8"
             },
             "line": {
              "color": "white"
             }
            },
            "header": {
             "fill": {
              "color": "#C8D4E3"
             },
             "line": {
              "color": "white"
             }
            },
            "type": "table"
           }
          ]
         },
         "layout": {
          "annotationdefaults": {
           "arrowcolor": "#2a3f5f",
           "arrowhead": 0,
           "arrowwidth": 1
          },
          "autotypenumbers": "strict",
          "coloraxis": {
           "colorbar": {
            "outlinewidth": 0,
            "ticks": ""
           }
          },
          "colorscale": {
           "diverging": [
            [
             0,
             "#8e0152"
            ],
            [
             0.1,
             "#c51b7d"
            ],
            [
             0.2,
             "#de77ae"
            ],
            [
             0.3,
             "#f1b6da"
            ],
            [
             0.4,
             "#fde0ef"
            ],
            [
             0.5,
             "#f7f7f7"
            ],
            [
             0.6,
             "#e6f5d0"
            ],
            [
             0.7,
             "#b8e186"
            ],
            [
             0.8,
             "#7fbc41"
            ],
            [
             0.9,
             "#4d9221"
            ],
            [
             1,
             "#276419"
            ]
           ],
           "sequential": [
            [
             0,
             "#0d0887"
            ],
            [
             0.1111111111111111,
             "#46039f"
            ],
            [
             0.2222222222222222,
             "#7201a8"
            ],
            [
             0.3333333333333333,
             "#9c179e"
            ],
            [
             0.4444444444444444,
             "#bd3786"
            ],
            [
             0.5555555555555556,
             "#d8576b"
            ],
            [
             0.6666666666666666,
             "#ed7953"
            ],
            [
             0.7777777777777778,
             "#fb9f3a"
            ],
            [
             0.8888888888888888,
             "#fdca26"
            ],
            [
             1,
             "#f0f921"
            ]
           ],
           "sequentialminus": [
            [
             0,
             "#0d0887"
            ],
            [
             0.1111111111111111,
             "#46039f"
            ],
            [
             0.2222222222222222,
             "#7201a8"
            ],
            [
             0.3333333333333333,
             "#9c179e"
            ],
            [
             0.4444444444444444,
             "#bd3786"
            ],
            [
             0.5555555555555556,
             "#d8576b"
            ],
            [
             0.6666666666666666,
             "#ed7953"
            ],
            [
             0.7777777777777778,
             "#fb9f3a"
            ],
            [
             0.8888888888888888,
             "#fdca26"
            ],
            [
             1,
             "#f0f921"
            ]
           ]
          },
          "colorway": [
           "#636efa",
           "#EF553B",
           "#00cc96",
           "#ab63fa",
           "#FFA15A",
           "#19d3f3",
           "#FF6692",
           "#B6E880",
           "#FF97FF",
           "#FECB52"
          ],
          "font": {
           "color": "#2a3f5f"
          },
          "geo": {
           "bgcolor": "white",
           "lakecolor": "white",
           "landcolor": "#E5ECF6",
           "showlakes": true,
           "showland": true,
           "subunitcolor": "white"
          },
          "hoverlabel": {
           "align": "left"
          },
          "hovermode": "closest",
          "mapbox": {
           "style": "light"
          },
          "paper_bgcolor": "white",
          "plot_bgcolor": "#E5ECF6",
          "polar": {
           "angularaxis": {
            "gridcolor": "white",
            "linecolor": "white",
            "ticks": ""
           },
           "bgcolor": "#E5ECF6",
           "radialaxis": {
            "gridcolor": "white",
            "linecolor": "white",
            "ticks": ""
           }
          },
          "scene": {
           "xaxis": {
            "backgroundcolor": "#E5ECF6",
            "gridcolor": "white",
            "gridwidth": 2,
            "linecolor": "white",
            "showbackground": true,
            "ticks": "",
            "zerolinecolor": "white"
           },
           "yaxis": {
            "backgroundcolor": "#E5ECF6",
            "gridcolor": "white",
            "gridwidth": 2,
            "linecolor": "white",
            "showbackground": true,
            "ticks": "",
            "zerolinecolor": "white"
           },
           "zaxis": {
            "backgroundcolor": "#E5ECF6",
            "gridcolor": "white",
            "gridwidth": 2,
            "linecolor": "white",
            "showbackground": true,
            "ticks": "",
            "zerolinecolor": "white"
           }
          },
          "shapedefaults": {
           "line": {
            "color": "#2a3f5f"
           }
          },
          "ternary": {
           "aaxis": {
            "gridcolor": "white",
            "linecolor": "white",
            "ticks": ""
           },
           "baxis": {
            "gridcolor": "white",
            "linecolor": "white",
            "ticks": ""
           },
           "bgcolor": "#E5ECF6",
           "caxis": {
            "gridcolor": "white",
            "linecolor": "white",
            "ticks": ""
           }
          },
          "title": {
           "x": 0.05
          },
          "xaxis": {
           "automargin": true,
           "gridcolor": "white",
           "linecolor": "white",
           "ticks": "",
           "title": {
            "standoff": 15
           },
           "zerolinecolor": "white",
           "zerolinewidth": 2
          },
          "yaxis": {
           "automargin": true,
           "gridcolor": "white",
           "linecolor": "white",
           "ticks": "",
           "title": {
            "standoff": 15
           },
           "zerolinecolor": "white",
           "zerolinewidth": 2
          }
         }
        },
        "title": {
         "text": "Total Circulation by Branch"
        },
        "xaxis": {
         "anchor": "y",
         "domain": [
          0,
          1
         ],
         "title": {
          "text": "branch"
         }
        },
        "yaxis": {
         "anchor": "x",
         "domain": [
          0,
          1
         ],
         "title": {
          "text": "circulation"
         }
        }
       }
      }
     },
     "metadata": {},
     "output_type": "display_data"
    }
   ],
   "source": [
    "# Bar plots with plotly\n",
    "# Aggregate circulation by branch\n",
    "total_circulation_by_branch = df_long.groupby('branch')['circulation'].sum().reset_index()\n",
    "\n",
    "# Create a bar plot\n",
    "fig = px.bar(total_circulation_by_branch, x='branch', y='circulation', title='Total Circulation by Branch')\n",
    "fig.show()"
   ]
  },
  {
   "cell_type": "code",
   "execution_count": null,
   "id": "102388da",
   "metadata": {},
   "outputs": [],
   "source": []
  }
 ],
 "metadata": {
  "kernelspec": {
   "display_name": "Python 3",
   "language": "python",
   "name": "python3"
  },
  "language_info": {
   "codemirror_mode": {
    "name": "ipython",
    "version": 3
   },
   "file_extension": ".py",
   "mimetype": "text/x-python",
   "name": "python",
   "nbconvert_exporter": "python",
   "pygments_lexer": "ipython3",
   "version": "3.13.7"
  }
 },
 "nbformat": 4,
 "nbformat_minor": 5
}
