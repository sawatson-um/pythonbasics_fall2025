{
 "cells": [
  {
   "cell_type": "markdown",
   "id": "b8fa9498-abc6-4a30-92d8-2667eef11420",
   "metadata": {},
   "source": [
    "# Python Basics Week 3"
   ]
  },
  {
   "cell_type": "markdown",
   "id": "61bd05a8-d645-4470-9992-05b08c9cf9d4",
   "metadata": {},
   "source": [
    "Week 3 topics: \n",
    "- Importing libraries (& using aliases)\n",
    "- Lists (creating, indexing, slicing, concatenating)\n",
    "- For Loops"
   ]
  },
  {
   "cell_type": "markdown",
   "id": "7ceb44e7-9dcb-4957-84e3-5401b55ec9e0",
   "metadata": {},
   "source": [
    "## Libraries"
   ]
  },
  {
   "cell_type": "markdown",
   "id": "7f53539e-8be5-413b-96c8-53c9ad0759b8",
   "metadata": {},
   "source": [
    "Libraries/packages are collections of functions and/or data that help expand on Python's core functions. There are tons of Python packages available. As you continue learning (and read more code!) you will start to become familiar with some of the more common libraries. Libraries can also help you accomplish very specific tasks - for example, conducting advanced statistical analysis, reading genomic data, making plots and charts, etc. without having to write a lot of custom functions.  "
   ]
  },
  {
   "cell_type": "markdown",
   "id": "602efd67-b184-47a3-903b-0ecb16ecb8aa",
   "metadata": {},
   "source": [
    "### Installing Libraries"
   ]
  },
  {
   "cell_type": "markdown",
   "id": "82dd75f3-8753-4220-9e95-9b0f42b4831e",
   "metadata": {},
   "source": [
    "If you installed Python through Anaconda, you already have most commonly used Python libraries installed on your computer. However, if you need to install a new library that you don't already have, you will use `pip`. You should only have to install a library on your computer once (unless it needs to be updated).\n",
    "\n",
    "Starting a command with an exclamation point ( ! ) passes the command to the shell. You can also use the same syntax (minus the \"!\" ) in the command line/terminal/Bash shell to install rather than doing it through your IDE.  "
   ]
  },
  {
   "cell_type": "code",
   "execution_count": null,
   "id": "50261310-75d7-4ff5-985f-5aefcb269b5c",
   "metadata": {},
   "outputs": [],
   "source": [
    "!pip install numpy"
   ]
  },
  {
   "cell_type": "markdown",
   "id": "fef79e11-473d-45ce-a75a-852e9853bbe9",
   "metadata": {},
   "source": [
    "(you will already have the numpy library installed on your computer through Anaconda)\n",
    "\n",
    "Doing this installs the library on your computer, but it's not actually available in your notebook yet. In order to make it available in our notebook, we need to `import` the library. You only need to import a package once per notebook. By convention, importing the packages required for your code should be the very first thing you see when you open a script. This lets other people using your code know what they need to install and makes all the functions you need available up front. "
   ]
  },
  {
   "cell_type": "code",
   "execution_count": null,
   "id": "50c5d9d3-bcb0-4943-a31d-ddb8f2adaffa",
   "metadata": {},
   "outputs": [],
   "source": [
    "import random"
   ]
  },
  {
   "cell_type": "markdown",
   "id": "c1508c45-857d-412c-9d36-224eee89fcbc",
   "metadata": {},
   "source": [
    "### Library aliases"
   ]
  },
  {
   "cell_type": "markdown",
   "id": "cf06dd47-0c2c-427a-b70a-821959c98b11",
   "metadata": {},
   "source": [
    "In order to save on the amount of typing that you have to do, it is convention to import some Python packages with \"aliases\" or shortened names. This is done with the `as` keyword. The preferred alias is usually included in the package's documentation. A few common ones are:"
   ]
  },
  {
   "cell_type": "code",
   "execution_count": null,
   "id": "11bbfa7c-c705-4c87-88cd-719f4af51de3",
   "metadata": {},
   "outputs": [],
   "source": [
    "# Don't run this cell\n",
    "import numpy as np\n",
    "import pandas as pd\n",
    "import matplotlib.pyplot as plt"
   ]
  },
  {
   "cell_type": "markdown",
   "id": "69a4034a-e12d-4a51-b5f5-ed87b635f13b",
   "metadata": {},
   "source": [
    "### Calling Functions from Libraries"
   ]
  },
  {
   "cell_type": "markdown",
   "id": "78a0a685-da96-4dc4-8c4f-3c0238d0b329",
   "metadata": {},
   "source": [
    "Once a library has been imported, we can use any functions that are from that library. However, we still need to tell Python which library the function is coming from. This helps avoid naming conflicts between functions from different libraries. "
   ]
  },
  {
   "cell_type": "code",
   "execution_count": null,
   "id": "37f064a6-d434-4750-95b0-cfb87abc540b",
   "metadata": {},
   "outputs": [],
   "source": [
    "import time  # time is already installed, so we can import it without installing through pip first\n",
    "\n",
    "print(\"Hello!\")\n",
    "\n",
    "time.sleep(3)  # the sleep() function comes from the time module, so we call it using time.sleep()\n",
    "\n",
    "print(\"Hello to you too!\")"
   ]
  },
  {
   "cell_type": "markdown",
   "id": "eb67fea0-bb70-4ce1-9e22-cecf9c009497",
   "metadata": {},
   "source": [
    "Core functions like `print()` are integral to Python - they don't come from an external library - so we don't need to call the library that they belong to. "
   ]
  },
  {
   "cell_type": "markdown",
   "id": "0f6c53ea-7d43-4e70-9a52-6181fe58e818",
   "metadata": {},
   "source": [
    "### Importing Pieces of Libraries"
   ]
  },
  {
   "cell_type": "markdown",
   "id": "702e733c-310a-49ff-a60e-fdea5a9d0fb2",
   "metadata": {},
   "source": [
    "Sometimes you just a need a particular package or even just one function from a library. It would be inefficient to import the entire library and have it take up space and processing power, so we can use `from` to grab just what we need from a package. When you import a function from a library, you don't need to specify the library when you call the function (since you didn't import the whole library anyway)."
   ]
  },
  {
   "cell_type": "code",
   "execution_count": null,
   "id": "cfbb6561-e93b-475a-93e4-ab6448466c36",
   "metadata": {},
   "outputs": [],
   "source": [
    "from math import sqrt\n",
    "sqrt(81)"
   ]
  },
  {
   "cell_type": "markdown",
   "id": "36c31935-70a9-4a9f-8cfc-63f3471301eb",
   "metadata": {},
   "source": [
    "## What is a list?"
   ]
  },
  {
   "cell_type": "markdown",
   "id": "fe605efa-3ec0-420a-8e9f-3aab97efefe5",
   "metadata": {},
   "source": [
    "A list is a sequence of items that have been grouped together in, well, a list. In Python, items in a list are stored between a pair of square brackets [ ].  "
   ]
  },
  {
   "cell_type": "code",
   "execution_count": null,
   "id": "55a2bc9a-11fd-4b52-90b8-23eff54d5357",
   "metadata": {},
   "outputs": [],
   "source": [
    "# To assign a list: \n",
    "odd_numbers = [1, 3, 5, 7, 9]"
   ]
  },
  {
   "cell_type": "code",
   "execution_count": null,
   "id": "25d606b8-519e-474b-a380-ed44d56e1151",
   "metadata": {},
   "outputs": [],
   "source": [
    "# Lists can store data of multiple types (unlike vectors in R):\n",
    "my_list = [20, \"ant\", 4.4, 8, \"hello\"]\n",
    "print(my_list)"
   ]
  },
  {
   "cell_type": "markdown",
   "id": "7cd9546b-4531-4c85-b2c7-fb7346f93ed8",
   "metadata": {},
   "source": [
    "### Fun with Lists"
   ]
  },
  {
   "cell_type": "markdown",
   "id": "e3f65efd-9280-43f6-91bc-f8047e9a11fb",
   "metadata": {},
   "source": [
    "We can index a list similar to how we index strings. Instead of pulling individual characters, the index calls the item's position in the list:"
   ]
  },
  {
   "cell_type": "code",
   "execution_count": null,
   "id": "113eec3f-d08c-4123-9d13-870af46646e3",
   "metadata": {},
   "outputs": [],
   "source": [
    "my_list[0]"
   ]
  },
  {
   "cell_type": "markdown",
   "id": "bee26404-d76c-4979-bc3b-6529c68dbbac",
   "metadata": {},
   "source": [
    "You can call the items in a list as an argument of a function:"
   ]
  },
  {
   "cell_type": "code",
   "execution_count": null,
   "id": "a628feb7-ccae-453f-a6c6-1b171d50a0a7",
   "metadata": {},
   "outputs": [],
   "source": [
    "print(my_list[2])\n",
    "type(my_list[2])"
   ]
  },
  {
   "cell_type": "markdown",
   "id": "4a0d90f4-b8b9-408f-a162-01decc988cb4",
   "metadata": {},
   "source": [
    "You can make an empty list using just an assignment operator and a pair of square brackets (we will see why this is useful later!):"
   ]
  },
  {
   "cell_type": "code",
   "execution_count": null,
   "id": "f2469f66-200b-4c83-8a8e-1f86e17c0fd7",
   "metadata": {},
   "outputs": [],
   "source": [
    "empty_list = []\n",
    "print(empty_list)"
   ]
  },
  {
   "cell_type": "markdown",
   "id": "6d9c96ab-f2f3-4b57-aa0a-904b6767c1b6",
   "metadata": {},
   "source": [
    "We can also use the `len()` function to see how many items are in a list:"
   ]
  },
  {
   "cell_type": "code",
   "execution_count": null,
   "id": "443471e9-d689-4b40-95bf-780bdde6eea8",
   "metadata": {},
   "outputs": [],
   "source": [
    "fruits = [\"apple\", \"banana\", \"kiwi\", \"mango\"]\n",
    "\n",
    "# Find out how many objects are in the list of fruits:\n",
    "len(fruits)"
   ]
  },
  {
   "cell_type": "code",
   "execution_count": null,
   "id": "2fb2eda6-bd0f-40cb-8797-9a9928426686",
   "metadata": {},
   "outputs": [],
   "source": [
    "# test whether a particular item is in the list\n",
    "\"banana\" in fruits"
   ]
  },
  {
   "cell_type": "code",
   "execution_count": null,
   "id": "55ecee1b-9011-4be3-9b89-d8c4d50562f3",
   "metadata": {},
   "outputs": [],
   "source": [
    "\"spinach\" in fruits"
   ]
  },
  {
   "cell_type": "code",
   "execution_count": null,
   "id": "225229ec-fd17-450b-830b-dc9cb9988c1e",
   "metadata": {},
   "outputs": [],
   "source": [
    "# get a random item from the list\n",
    "import random\n",
    "random.choice(fruits)"
   ]
  },
  {
   "cell_type": "code",
   "execution_count": null,
   "id": "f26d1ae3-9b2f-4d30-85c0-96e4c107a790",
   "metadata": {},
   "outputs": [],
   "source": [
    "# get a random sample from a list\n",
    "random.sample(fruits, 2)"
   ]
  },
  {
   "cell_type": "code",
   "execution_count": null,
   "id": "2eb12b30-3a78-4522-9f42-d0d3d4d9cac6",
   "metadata": {},
   "outputs": [],
   "source": [
    "# Call the first item in the list of fruits:\n",
    "fruits[0]"
   ]
  },
  {
   "cell_type": "markdown",
   "id": "96ae9194-bbd9-4bb6-ba3e-fd922b133628",
   "metadata": {},
   "source": [
    "Slicing a list also works in the same way as slicing a string:"
   ]
  },
  {
   "cell_type": "code",
   "execution_count": null,
   "id": "b86089f6-8fb4-4824-9acd-85c3b2ca76e4",
   "metadata": {},
   "outputs": [],
   "source": [
    "# Call the first three items in the list of fruits:\n",
    "fruits[0:3]"
   ]
  },
  {
   "cell_type": "code",
   "execution_count": null,
   "id": "83b9002d-f952-43f9-b85d-22c479caed9e",
   "metadata": {},
   "outputs": [],
   "source": [
    "# can also do it this way:\n",
    "fruits[:3]"
   ]
  },
  {
   "cell_type": "code",
   "execution_count": null,
   "id": "6d052b52-c679-4c01-bb99-b2b3cf7f178d",
   "metadata": {},
   "outputs": [],
   "source": [
    "# Call the entire list/all the items in the list of fruits:\n",
    "fruits"
   ]
  },
  {
   "cell_type": "code",
   "execution_count": null,
   "id": "9511990c-ef8a-4ac1-a998-83c155240e09",
   "metadata": {},
   "outputs": [],
   "source": [
    "# or:\n",
    "fruits[:]"
   ]
  },
  {
   "cell_type": "code",
   "execution_count": null,
   "id": "35ac5022-c9ad-4598-b650-fa36f8cd9b25",
   "metadata": {},
   "outputs": [],
   "source": [
    "# call the last item in the list of fruits:\n",
    "#If the length of the list is known:\n",
    "fruits[3]"
   ]
  },
  {
   "cell_type": "code",
   "execution_count": null,
   "id": "e70d203e-11b3-43d4-9216-03ba605cc127",
   "metadata": {},
   "outputs": [],
   "source": [
    "# if you don't know the length of the list:\n",
    "fruits[-1]"
   ]
  },
  {
   "cell_type": "code",
   "execution_count": null,
   "id": "696040a7-e011-46d9-a689-0242c342534c",
   "metadata": {},
   "outputs": [],
   "source": [
    "# Could also do it this way (but why would you?):\n",
    "fruits[len(fruits)-1]  # \"Find the length of the list fruits and call that number minus 1\" (otherwise the index is out of the list range)"
   ]
  },
  {
   "cell_type": "code",
   "execution_count": null,
   "id": "79ce0832-b68a-4cd7-ab0c-4532dc1401b7",
   "metadata": {},
   "outputs": [],
   "source": [
    "# Call every other item in the list of fruits:\n",
    "fruits[0:-1:2]"
   ]
  },
  {
   "cell_type": "code",
   "execution_count": null,
   "id": "fcd03efd-f0a9-4dff-bbf6-11025491f6e0",
   "metadata": {},
   "outputs": [],
   "source": [
    "# or:\n",
    "fruits[::2]"
   ]
  },
  {
   "cell_type": "code",
   "execution_count": null,
   "id": "fddc6c49-c947-4e1d-b001-91cd1c0fcfe0",
   "metadata": {},
   "outputs": [],
   "source": [
    "# Slice a string inside of a list\n",
    "print(fruits[0][0]) # the first index calls the first object in the list; the second index calls the first character of that string object"
   ]
  },
  {
   "cell_type": "code",
   "execution_count": null,
   "id": "3b6c974b-5f77-4df5-8e49-7eee2d807ad0",
   "metadata": {},
   "outputs": [],
   "source": [
    "# Challenge: print just the first letter of the last item in the list of fruits\n",
    "\n",
    "print(fruits[-1][0])  # the first index calls the last object in the list; the second index calls the first character of that string object"
   ]
  },
  {
   "cell_type": "markdown",
   "id": "6bb91506-6cc7-46d5-9e11-3fb4a6a1e03a",
   "metadata": {},
   "source": [
    "### Lists are mutable"
   ]
  },
  {
   "cell_type": "markdown",
   "id": "61a8546e-4baa-4ebf-b20b-6c8ecdf4f52a",
   "metadata": {},
   "source": [
    "We can add items to a list using the `append` method:"
   ]
  },
  {
   "cell_type": "code",
   "execution_count": null,
   "id": "59e4eae9-59bf-47ca-90f2-13fe928dd117",
   "metadata": {},
   "outputs": [],
   "source": [
    "fruits.append(\"orange\")\n",
    "print(fruits)\n",
    "# If I run this cell twice, \"orange\" will be added twice."
   ]
  },
  {
   "cell_type": "markdown",
   "id": "0e4e7fc9-1f83-4156-97c7-f26eb2adc756",
   "metadata": {},
   "source": [
    "To remove a specified item, we use the `remove` method. If an item is in a list more than once, `remove` deletes the first instance of that item and leaves the other instances."
   ]
  },
  {
   "cell_type": "code",
   "execution_count": null,
   "id": "47dbe770-fe5e-4556-8330-a9a40718e643",
   "metadata": {},
   "outputs": [],
   "source": [
    "fruits.remove(\"orange\")\n",
    "print(fruits)"
   ]
  },
  {
   "cell_type": "markdown",
   "id": "183a1720-ba01-48dd-96ff-0d497fe7cdd7",
   "metadata": {},
   "source": [
    "You can remove items via their index number using the `pop` method instead:"
   ]
  },
  {
   "cell_type": "code",
   "execution_count": null,
   "id": "38e763f7-670f-44ec-917b-662e49cc65dd",
   "metadata": {},
   "outputs": [],
   "source": [
    "fruits.pop(4)\n",
    "print(fruits)"
   ]
  },
  {
   "cell_type": "markdown",
   "id": "c5c215c6-da48-47ca-9100-3ed5db66f156",
   "metadata": {},
   "source": [
    "Multiple lists can be joined together via concatination:"
   ]
  },
  {
   "cell_type": "code",
   "execution_count": null,
   "id": "32685852-9efd-437e-b206-4d2bbe74a226",
   "metadata": {},
   "outputs": [],
   "source": [
    "berries = [\"raspberry\", \"strawberry\", \"blackberry\"]\n",
    "\n",
    "fruits_and_berries = fruits + berries\n",
    "\n",
    "print(fruits_and_berries)"
   ]
  },
  {
   "cell_type": "markdown",
   "id": "ffd8fc31-dd1b-4965-a0f1-3a9b7befb35f",
   "metadata": {},
   "source": [
    "The `clear` method empties a list:"
   ]
  },
  {
   "cell_type": "code",
   "execution_count": null,
   "id": "f502eae9-32d2-4e1b-9c6b-8c296c384f68",
   "metadata": {},
   "outputs": [],
   "source": [
    "fruits_and_berries.clear()\n",
    "print(fruits_and_berries)"
   ]
  },
  {
   "cell_type": "code",
   "execution_count": null,
   "id": "f415661f-3351-4dca-aff4-fa837c33d306",
   "metadata": {},
   "outputs": [],
   "source": [
    "# CUT THIS FOR TIME\n",
    "# You can also join lists together using the .extend method:\n",
    "fruits_and_berries.extend(berries)\n",
    "fruits_and_berries"
   ]
  },
  {
   "cell_type": "code",
   "execution_count": null,
   "id": "b3ac5f25-83ef-4e13-aaa7-8faf2397a446",
   "metadata": {},
   "outputs": [],
   "source": [
    "# CUT THIS FOR TIME\n",
    "# Notice that this is different than using the append method\n",
    "# Append adds AN ITEM; extend adds EACH ITEM from an iteratble \n",
    "fruits_and_berries.append(fruits)\n",
    "fruits_and_berries"
   ]
  },
  {
   "cell_type": "markdown",
   "id": "06dacdb7-62d3-43a9-9525-a284bf7a52aa",
   "metadata": {},
   "source": [
    "You can duplicate a list by using the `copy` method:"
   ]
  },
  {
   "cell_type": "code",
   "execution_count": null,
   "id": "a1c730d4-d362-498e-a370-f436b4020177",
   "metadata": {},
   "outputs": [],
   "source": [
    "fruits_2 = fruits.copy()\n",
    "print(fruits_2)"
   ]
  },
  {
   "cell_type": "markdown",
   "id": "acfe27b6-9659-4740-a0f1-3768c83bdc18",
   "metadata": {},
   "source": [
    "### Lists of Lists"
   ]
  },
  {
   "cell_type": "markdown",
   "id": "f24e2af6-7588-47cd-9439-1b6741bfcfdc",
   "metadata": {},
   "source": [
    "Lists can contain more than just integers, floats, and strings. You can also have lists of other data types (like Boolean values or dictionaries), and even lists containing other lists!"
   ]
  },
  {
   "cell_type": "code",
   "execution_count": null,
   "id": "e9d54565-3eec-4722-9331-ab8ed588688a",
   "metadata": {},
   "outputs": [],
   "source": [
    "students = [[\"Saeed\", \"Jilkiah\", \"Anisha\"],[\"Indrajeet\",\"Kenaz\",\"Sagar\"]]"
   ]
  },
  {
   "cell_type": "code",
   "execution_count": null,
   "id": "2a69536f-281a-4bea-b89a-189c911e308f",
   "metadata": {},
   "outputs": [],
   "source": [
    "# call the first item in the list of lists:\n",
    "students[0]"
   ]
  },
  {
   "cell_type": "code",
   "execution_count": null,
   "id": "d4612be7-9c6c-4e37-81ed-f012b1ce0b66",
   "metadata": {},
   "outputs": [],
   "source": [
    "# it's a list! Call the first name from the first list in the list-of-lists:\n",
    "students[0][0]"
   ]
  },
  {
   "cell_type": "markdown",
   "id": "e8cdfefd-7647-4562-82aa-bfcc3fdcd625",
   "metadata": {},
   "source": [
    "## For Loops"
   ]
  },
  {
   "cell_type": "markdown",
   "id": "8f933c66-8f8e-4ca1-8667-af79577c7761",
   "metadata": {},
   "source": [
    "Let's say that I wanted to automate a certain action to repeat for every item in a list. We can loop through the list using a `for` loop, which takes the general form of:"
   ]
  },
  {
   "cell_type": "code",
   "execution_count": null,
   "id": "6dc760d0-26e7-460c-83fa-898a8c096251",
   "metadata": {},
   "outputs": [],
   "source": [
    "for item in list:  # note that we are using the membership operator 'in' that we learned last week\n",
    "    take this action"
   ]
  },
  {
   "cell_type": "markdown",
   "id": "63445474-333a-4cde-bd12-a51d13738de2",
   "metadata": {},
   "source": [
    "I can call the \"item\" that's in my list anything I want; this is just a stand-in name. So long as you are consistent with what you call it in the body of the loop, you could call it anything."
   ]
  },
  {
   "cell_type": "markdown",
   "id": "8302e9da-c3ba-4999-864c-411537a9abe0",
   "metadata": {},
   "source": [
    "### Do Together: Print fruits"
   ]
  },
  {
   "cell_type": "code",
   "execution_count": null,
   "id": "b9f6867b-ae3a-4282-a316-ef3d943160aa",
   "metadata": {},
   "outputs": [],
   "source": [
    "# Do Together:\n",
    "for item in fruits:  # doesn't have to be \"item\"; I could call this \"fruit\", or \"kittens\", or \"i\" or \"x\"\n",
    "    print(item)\n",
    "    sleep(1)"
   ]
  },
  {
   "cell_type": "markdown",
   "id": "96c87821-cb1c-402d-8419-ebfc30c4036c",
   "metadata": {},
   "source": [
    "### Do Together: curve these test scores by adding 10 points to each existing score:"
   ]
  },
  {
   "cell_type": "code",
   "execution_count": null,
   "id": "6b43a074-8a59-4a3a-82dd-bfda246e591f",
   "metadata": {},
   "outputs": [],
   "source": [
    "# Do Together: curve these test scores by adding 10 points to each existing score:\n",
    "scores = [70, 85, 88, 45, 68, 73, 80, 67, 23, 48]"
   ]
  },
  {
   "cell_type": "code",
   "execution_count": null,
   "id": "89858415-b698-4cfe-9a47-0292f33867a8",
   "metadata": {},
   "outputs": [],
   "source": [
    "for num in scores:\n",
    "    print(num + 10)"
   ]
  },
  {
   "cell_type": "markdown",
   "id": "e5ac4e04-c97a-4f25-acbd-c2a4971b8971",
   "metadata": {},
   "source": [
    "### Challenge: Turn this list of words into adverbs by adding \"ly\" to the end of each word."
   ]
  },
  {
   "cell_type": "code",
   "execution_count": null,
   "id": "564d5604-631d-4e2b-8c53-4cd910b81687",
   "metadata": {},
   "outputs": [],
   "source": [
    "# Exercise: Turn this list of words into adverbs by adding \"ly\" to the end of each word.\n",
    "words = [\"clear\", \"loud\", \"sudden\", \"wise\", \"fair\", \"absolute\", \"complete\", \"total\", \"pure\"]"
   ]
  },
  {
   "cell_type": "code",
   "execution_count": null,
   "id": "2cab14b3-a0d8-43e2-bbbd-570aa8ff102a",
   "metadata": {},
   "outputs": [],
   "source": [
    "for w in words:\n",
    "    print(w + \"ly\")"
   ]
  },
  {
   "cell_type": "markdown",
   "id": "91d03212-69df-41a2-9d9e-0a18bd8d25fc",
   "metadata": {},
   "source": [
    "## For Loops with the Range Function"
   ]
  },
  {
   "cell_type": "markdown",
   "id": "2aefe245-1364-45b4-adc4-43bad176b72f",
   "metadata": {},
   "source": [
    "We can mimic a `while` loop that repeats a specified number of times by using a `for` loop with the `range()` function. It looks like:"
   ]
  },
  {
   "cell_type": "code",
   "execution_count": null,
   "id": "eb0bcfa8-003a-42bb-9370-b54c77230e92",
   "metadata": {},
   "outputs": [],
   "source": [
    "for i in range(j):   # note that we are using the membership operator 'in' that we learned last week\n",
    "    take this action"
   ]
  },
  {
   "cell_type": "markdown",
   "id": "03065abc-a638-4999-98ae-11c3371e97f2",
   "metadata": {},
   "source": [
    "Where `i` is a generic variable and `j` is the number of times you want the action to repeat. As always, the default starting value of i is 0. "
   ]
  },
  {
   "cell_type": "code",
   "execution_count": null,
   "id": "436467e8-edbb-4378-8f0a-4fd608464873",
   "metadata": {},
   "outputs": [],
   "source": [
    "# Example:\n",
    "for i in range(3):\n",
    "    print(i)"
   ]
  },
  {
   "cell_type": "markdown",
   "id": "eca70569-9f8b-47ac-8a7f-dcb4d2acb119",
   "metadata": {},
   "source": [
    "### Do Together: Write a loop that repeats the word \"What?\" five times."
   ]
  },
  {
   "cell_type": "code",
   "execution_count": null,
   "id": "753696b8-ed5c-4fe0-82a7-fb3052c65a9b",
   "metadata": {},
   "outputs": [],
   "source": [
    "# Do Together: Write a loop that repeats the word \"What?\" five times.\n",
    "for i in range(5):\n",
    "    print('What?')\n",
    "    sleep(1)"
   ]
  },
  {
   "cell_type": "markdown",
   "id": "7c5fd310-630a-4560-b290-508a90436e73",
   "metadata": {},
   "source": [
    "### Challenge: Write a loop that prints all the even numbers between 2-20"
   ]
  },
  {
   "cell_type": "markdown",
   "id": "e1d02d02-18e9-4a1b-8061-1266b1b02e95",
   "metadata": {},
   "source": [
    "Step-by values (also called skip-by or count-by) specify the \"step\" between numbers in the range. By default, this is 1."
   ]
  },
  {
   "cell_type": "code",
   "execution_count": null,
   "id": "14a150d6-f3a8-4a29-88ba-69dc1bd4723e",
   "metadata": {},
   "outputs": [],
   "source": [
    "# Step-by values (also called skip-by or count-by) specify the \"step\" between numbers in the range. By default, this is 1.\n",
    "# Exercise: Write a loop that prints all the even numbers between 2-20\n",
    "for i in range(2, 21, 2):\n",
    "    print(i)"
   ]
  },
  {
   "cell_type": "markdown",
   "id": "7353b818-ee76-4134-b1d9-aff93468c75c",
   "metadata": {},
   "source": [
    "### Do Together (For Prabin): Two ways to write a word backwards"
   ]
  },
  {
   "cell_type": "code",
   "execution_count": null,
   "id": "0b6f38a9-3d75-473b-bbbb-2a2019dec91a",
   "metadata": {},
   "outputs": [],
   "source": [
    "# For Prabin: One way to write a word backwards\n",
    "# Do Together\n",
    "word = input(\"Enter a word:\")\n",
    "start = len(word)-1  # start at the index of the last letter\n",
    "\n",
    "for i in range (start,-1,-1):  # end value is not included in the range; step-by value moves back by 1 each time\n",
    "    letter = word[i]\n",
    "    print(letter, i)  # print each letter and its index value\n",
    "    index = index - 1  # move one letter to the left for the next cycle of the loop"
   ]
  },
  {
   "cell_type": "code",
   "execution_count": null,
   "id": "6534ee6b-ceca-4c84-8d0d-7345e72ad5b4",
   "metadata": {},
   "outputs": [],
   "source": [
    "# For Prabin: \n",
    "# You can also step (or step backwards) through a slice (from last week):\n",
    "word = \"apple\"\n",
    "word[::-1]"
   ]
  },
  {
   "cell_type": "markdown",
   "id": "9471d1f9-2e26-4dd8-8791-6a27b9845a6c",
   "metadata": {},
   "source": [
    "## Combining Lists and Loops"
   ]
  },
  {
   "cell_type": "markdown",
   "id": "c60c9a91-bdae-4a40-8e8a-d0fc52aff16b",
   "metadata": {},
   "source": [
    "### Example: write a loop that creates a list of numbers 1-10"
   ]
  },
  {
   "cell_type": "code",
   "execution_count": null,
   "id": "e0a6d0e6-78f6-4ba8-99fb-49de1d72bc7b",
   "metadata": {},
   "outputs": [],
   "source": [
    "# Example: write a loop that creates a list of numbers 1-10\n",
    "\n",
    "numbers = []  # start with (\"initialize\") an empty list\n",
    "for i in range(1, 11):  # range() starts at 0 by default; you can set the start of the range with an additional argument\n",
    "    numbers.append(i)\n",
    "print(numbers)"
   ]
  },
  {
   "cell_type": "markdown",
   "id": "408c28ce-1b61-44b4-afa3-539887b29694",
   "metadata": {},
   "source": [
    "### Challenge: write a loop that creates a list of all the multiples of 7 that are between 1-100"
   ]
  },
  {
   "cell_type": "code",
   "execution_count": null,
   "id": "d1082268-3045-448c-94e3-7a014f9d2215",
   "metadata": {},
   "outputs": [],
   "source": [
    "# Challenge: write a loop that creates a list of all the multiples of 7 that are between 1-100\n",
    "\n",
    "multiples = []\n",
    "for i in range(7, 100, 7):  # the step argument specifies how much to \"skip by\" or increment by in the sequence\n",
    "    multiples.append(i)\n",
    "print(multiples)"
   ]
  },
  {
   "cell_type": "markdown",
   "id": "8292a3a7-b47b-4aa4-9b6d-455c20fc339f",
   "metadata": {},
   "source": [
    "## Bonus - Fibonacci Sequence"
   ]
  },
  {
   "cell_type": "markdown",
   "id": "cecf57c0-8084-494a-9630-c4efb9f777a0",
   "metadata": {},
   "source": [
    "The Fibonacci sequence was first described in Indian mathematics as early as 200 BCE. It was introduced to European mathematics in 1202 in the book *Liber Abaci* (The Book of Calculation) written by the mathematician Leonardo of Pisa, also known as Fibonacci. "
   ]
  },
  {
   "cell_type": "markdown",
   "id": "763c3740-3bb3-42c8-803c-e9eed3b41163",
   "metadata": {},
   "source": [
    "In the book, Fibonacci posed a unique puzzle: suppose that a newly born breeding pair of rabbits are put in a field. Each breeding pair mates at the age of one month, and by the start of their third month they always produce another pair of rabbits each month going forward. The rabbits never die, but continue breeding every month forever."
   ]
  },
  {
   "cell_type": "markdown",
   "id": "af8316e3-9936-4a7f-b210-7b02970e31ba",
   "metadata": {},
   "source": [
    "***So, how many pairs will there be in one year?***"
   ]
  },
  {
   "cell_type": "markdown",
   "id": "731fc767-8b80-4656-b867-850db3f33a58",
   "metadata": {},
   "source": [
    "### Modeling the Fibonacci Sequence"
   ]
  },
  {
   "cell_type": "markdown",
   "id": "2987eb4e-c462-4f32-81ab-0778cce6894a",
   "metadata": {},
   "source": [
    "Let's try and figure this out. Allow F<sub>n</sub> to equal the current number of *pairs* of rabbits, with *n* representing the number of months that have passed. "
   ]
  },
  {
   "cell_type": "markdown",
   "id": "457ddad5-2669-4766-895b-57502e3fc8bf",
   "metadata": {},
   "source": [
    "At the start of the first month, F<sub>1</sub> equals one, because we only have one pair of breeding rabbits.\n",
    "\n",
    "At the start of the second month, F2 still equals one, because our rabbits have not yet matured to the point where they are breeding yet.\n",
    "\n",
    "Finally, at the start of the third month our breeding pair has produced a pair of offspring, so now F3 equals two.\n",
    "\n",
    "In the fourth month, the original pair has produced another pair of offspring but the rabbits born in month three have not bred yet, so F4 equals three.\n",
    "\n",
    "In the fifth month, the original pair and the pair born in month 2 both have offspring, but the pair of rabbits born last month have not. F5 now equals five.\n",
    "\n",
    "In the sixth month, we now have three breeding pairs of rabbits and five pairs of immature offspring (two born last month and three more born this month). F6 now equals eight."
   ]
  },
  {
   "cell_type": "markdown",
   "id": "b16966d4-335d-40a2-9e34-bcaddaac73f7",
   "metadata": {},
   "source": [
    "***In this sequence, the current number of rabbit pairs F<sub>n</sub> is equal to the sum of the pairs of rabbits in last two months, F<sub>n-1</sub> and F<sub>n-2</sub>.***"
   ]
  },
  {
   "cell_type": "markdown",
   "id": "5fa9a3ac-2626-4ce5-b43c-f4a7db005c9a",
   "metadata": {},
   "source": [
    "F<sub>2</sub> (1), is equal to the sum of the first month (when we had one pair of rabbits) and the month before (F<sub>0</sub>) when there were no rabbits.\\\n",
    "F<sub>3</sub> (2) is equal to the sum of F<sub>1</sub> (1) and F<sub>2</sub> (1).\\\n",
    "F<sub>4</sub> (3) is equal to the sum of F<sub>2</sub> (1) and F<sub>3</sub> (2).\\\n",
    "F<sub>5</sub> (5) is equal to the sum of F<sub>3</sub> (2) and F<sub>4</sub> (3).\\\n",
    "F<sub>6</sub> (8) is equal to the sum of F<sub>4</sub> (3) and F<sub>5</sub> (5)."
   ]
  },
  {
   "cell_type": "markdown",
   "id": "b190dc51-550f-4b51-a025-fef08bffa06a",
   "metadata": {},
   "source": [
    "So the general equation for the Fibonacci sequence is F<sub>n</sub> = F<sub>n-1</sub> + F<sub>n-2</sub>"
   ]
  },
  {
   "cell_type": "markdown",
   "id": "1407f966-0ec7-4b7a-ace9-7dbbcffde057",
   "metadata": {},
   "source": [
    "### Challenge: Can we write some code that will tell us how many pairs of rabbits we will have in a particular month?"
   ]
  },
  {
   "cell_type": "code",
   "execution_count": null,
   "id": "f8cb1612-a46d-417e-bc99-9d452b2d1ad5",
   "metadata": {},
   "outputs": [],
   "source": [
    "months = int(input(\"How many months have passed?\"))  # user input is always a string, convert to int\n",
    "\n",
    "# initalize the first two numbers in the sequence\n",
    "current = 1  # 1 pair in the first month\n",
    "prev = 0  # 0 pairs in \"month zero\"\n",
    "\n",
    "# starting at month 1, sum the number of rabbit pairs for the current and previous months until you get to the user-defined value of \"months\"\n",
    "for i in range(1, months):\n",
    "    next = current + prev  # Sum the value of the current and previous month to get the value of the next month\n",
    "    prev = current  # for the next cycle of the loop, the current month becomes the previous month\n",
    "    current = next  # for the next cycle of the loop, the next month becomes the current month\n",
    "\n",
    "# n.b. because Python executes code from top to bottom, you cannot switch the previous two lines. \n",
    "# If you did switch them, you would be altering the value of \"current\" with current = next before you execute prev = current and your values would not calculate correctly.\n",
    "\n",
    "print(f'After {months} months you will have {current} pairs of rabbits.')"
   ]
  },
  {
   "cell_type": "markdown",
   "id": "d1f1383e-9670-4fb8-bc35-152139814e8d",
   "metadata": {
    "jp-MarkdownHeadingCollapsed": true
   },
   "source": [
    "## List comprehension (CUT FOR TIME)"
   ]
  },
  {
   "cell_type": "markdown",
   "id": "3a825d59-3565-43b3-81eb-0ca3b55b0412",
   "metadata": {},
   "source": [
    "List comprehension uses a shorter syntax when you want to create a new list based on the values of an existing list."
   ]
  },
  {
   "cell_type": "code",
   "execution_count": null,
   "id": "a4739bd4-6f52-4ea3-a6b5-c49dbef62ecb",
   "metadata": {},
   "outputs": [],
   "source": [
    "# example: Using a list of temperature readings in Fahrenheit, make a list of the same temperature readings in Celsius\n",
    "temp_f = [77, 85, 78, 82, 80]\n",
    "\n",
    "# newlist = [expression for item in iterable]\n",
    "temp_c = [round((t-32)*(5/9),1) for t in temp_f]\n",
    "print(temp_c)"
   ]
  }
 ],
 "metadata": {
  "kernelspec": {
   "display_name": "Python 3 (ipykernel)",
   "language": "python",
   "name": "python3"
  },
  "language_info": {
   "codemirror_mode": {
    "name": "ipython",
    "version": 3
   },
   "file_extension": ".py",
   "mimetype": "text/x-python",
   "name": "python",
   "nbconvert_exporter": "python",
   "pygments_lexer": "ipython3",
   "version": "3.11.5"
  }
 },
 "nbformat": 4,
 "nbformat_minor": 5
}
