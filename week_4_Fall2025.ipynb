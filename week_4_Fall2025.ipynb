{
 "cells": [
  {
   "cell_type": "markdown",
   "id": "4dad9ad2-07fc-468e-893c-f434a93eb2f6",
   "metadata": {},
   "source": [
    "# Python Basics Week 4"
   ]
  },
  {
   "cell_type": "markdown",
   "id": "68991f41-abf2-40b9-bc56-28cf7b1fe4db",
   "metadata": {},
   "source": [
    "Week 4 topics:\n",
    "- While Loops\n",
    "- Flow control (if/elif/else)"
   ]
  },
  {
   "cell_type": "markdown",
   "id": "9b4af759-c3cd-4401-ad38-baa4619acb60",
   "metadata": {},
   "source": [
    "## While Loops"
   ]
  },
  {
   "cell_type": "markdown",
   "id": "938c5e07-d1d8-4698-8c79-536043e2790b",
   "metadata": {},
   "source": [
    "As the name suggests, a while loop repeats an action for as long as a given condition is True."
   ]
  },
  {
   "cell_type": "markdown",
   "id": "4332cbfa-ea5d-4da9-90b2-c092e5cfaa70",
   "metadata": {},
   "source": [
    "The general syntax of the loop is:"
   ]
  },
  {
   "cell_type": "code",
   "execution_count": null,
   "id": "4327faf7-ed4f-473f-bb7d-50cfe404e025",
   "metadata": {},
   "outputs": [],
   "source": [
    "while \"this condition is met\":  # start with the keyword 'while', specify the condition, and end the line with a colon\n",
    "    take this action  # the next line should automatically indent"
   ]
  },
  {
   "cell_type": "markdown",
   "id": "462968a8-89be-4811-8e97-fc6dba0af40b",
   "metadata": {},
   "source": [
    "Note: it is very easy to accidentaly make infinitely repeating loops using while. You can use the sleep function to slow down a loop and catch infinite loops before they get out of control.\n",
    "\n",
    "You can stop an infinite loop by interrupting the kernel from the menu bar (choose Kernel -> Interrupt Kernel)."
   ]
  },
  {
   "cell_type": "code",
   "execution_count": null,
   "id": "7427ecc4-6c85-475a-8687-bb1b56765765",
   "metadata": {},
   "outputs": [],
   "source": [
    "# Run this infinite loop then interrupt the kernel\n",
    "from time import sleep  # Importing the sleep module so we can slow down our infinite loop\n",
    "\n",
    "while True:\n",
    "    print('Oh no!')\n",
    "    sleep(3) # A three second pause so our infinite loop doesn't make the notebook gigantic!"
   ]
  },
  {
   "cell_type": "code",
   "execution_count": null,
   "id": "0770467c-d68d-401d-ad71-ed42afb2109b",
   "metadata": {},
   "outputs": [],
   "source": [
    "# Do together: Write a while loop that prints the numbers 1-10.\n",
    "# Use the sleep function (from the time module) to inlcude a short pause in the loop (this will help you catch infinite loops before they get out of control)\n",
    "\n",
    "from time import sleep\n",
    "\n",
    "num = 1\n",
    "while num <= 10:  # it's common to use a comparison operator or a Boolean (or an identity operator, which we will talk about next week) to set up the condition for a while loop\n",
    "    print(num)\n",
    "    num = num + 1\n",
    "    sleep(1)"
   ]
  },
  {
   "cell_type": "code",
   "execution_count": null,
   "id": "7882b1f3-ae02-4496-9fb4-ce7ec948ffe6",
   "metadata": {},
   "outputs": [],
   "source": [
    "# Exercise: write the same loop, but this time count down from 10. \n",
    "\n",
    "i = 10\n",
    "while i > 0:\n",
    "    print(i)\n",
    "    i = i - 1\n",
    "    sleep(1)\n",
    "print(\"Liftoff!\")"
   ]
  },
  {
   "cell_type": "code",
   "execution_count": null,
   "id": "20794066-f82c-4bb9-b498-652649eab4d9",
   "metadata": {},
   "outputs": [],
   "source": [
    "# For Prabin: Write a word backwards\n",
    "word = input(\"Enter a word:\")\n",
    "\n",
    "# To write it backwards, we want to print each letter, starting from the last index and going to the first.\n",
    "index = len(word) - 1  # Where should we start? len(word) will give us an index out of range error, so what we actually need is len(word)-1\n",
    "while index >= 0:\n",
    "    letter = word[index]\n",
    "    print(letter)\n",
    "    sleep(1)\n",
    "    index = index - 1"
   ]
  },
  {
   "cell_type": "markdown",
   "id": "0465b97d-10ef-4515-be6d-8beca06e8b19",
   "metadata": {},
   "source": [
    "### Fibonacci Part 2"
   ]
  },
  {
   "cell_type": "markdown",
   "id": "6192e666-45b3-4e15-be8a-7ef70e6fee54",
   "metadata": {},
   "source": [
    "Refer to week 3 for context; remember that the general form of the Fibonacci sequence is F<sub>n</sub> = F<sub>n-1</sub> + F<sub>n-2</sub>"
   ]
  },
  {
   "cell_type": "code",
   "execution_count": null,
   "id": "0d5c74c5-c296-49b1-a6f3-4bba07d44815",
   "metadata": {},
   "outputs": [],
   "source": [
    "# after how many months will you have surpassed 100 pairs of rabbits?\n",
    "\n",
    "num = int(input(\"How many pairs of rabbits?\"))\n",
    "\n",
    "month = 1  # start the month \"counter\" at month 1\n",
    "current = 1  # 1 pair in the first month\n",
    "prev = 0  # 0 pairs in month before the first month\n",
    "\n",
    "while current <= num:  # while the current number of rabbits is less than or equal to the input, keep cycling the loop\n",
    "    next = prev + current \n",
    "    prev = current\n",
    "    current = next\n",
    "    month = month + 1 # cycle the month counter\n",
    "\n",
    "print(f'After {month} months you will have more than {num} pairs of rabbits.')"
   ]
  },
  {
   "cell_type": "markdown",
   "id": "fece6721-9ee0-4ca6-80ad-aff549988047",
   "metadata": {
    "tags": []
   },
   "source": [
    "## Conditionals"
   ]
  },
  {
   "cell_type": "code",
   "execution_count": null,
   "id": "ee9a002c-5751-4f52-8c1b-058d4f8d7067",
   "metadata": {},
   "outputs": [],
   "source": [
    "# A basic conditional takes the form of:\n",
    "if \"condition is met\":\n",
    "    \"do this\"\n",
    "\n",
    "# Implied is that if the condition is NOT met, the code will continue to run and the next lines below the conditional will be run next."
   ]
  },
  {
   "cell_type": "markdown",
   "id": "1e945bb8-5d0c-4863-8390-f234e76eeccf",
   "metadata": {},
   "source": [
    "### If"
   ]
  },
  {
   "cell_type": "code",
   "execution_count": null,
   "id": "e0c31593-8baf-4c6f-8055-052afd706561",
   "metadata": {},
   "outputs": [],
   "source": [
    "# If example (h/t Nathan Kelber @ JSTOR Labs: https://github.com/ithaka/constellate-notebooks/blob/master/python-basics-2.ipynb)\n",
    "good_day = input('Are you having a good day? (Yes or No)').lower()\n",
    "\n",
    "if good_day == 'yes':\n",
    "    print('Glad to hear your day is going well!')"
   ]
  },
  {
   "cell_type": "code",
   "execution_count": null,
   "id": "d4764368-4474-420d-becc-4b6fad0695da",
   "metadata": {},
   "outputs": [],
   "source": [
    "# We can put a conditional inside of a loop (or a loop inside a conditional)\n",
    "# A program that asks the user to guess a number (h/t Nathan Kelber @ JSTOR Labs: https://github.com/ithaka/constellate-notebooks/blob/master/python-basics-2.ipynb)\n",
    "\n",
    "import random\n",
    "\n",
    "# Initialize the variable`secret_number`\n",
    "secret_number = str(random.randrange(1,10))  # turn an int into a str so it can be easily compared with user inputs\n",
    "\n",
    "print('I am thinking of a number between 1 and 10.') \n",
    "\n",
    "# # Ask the user to make a guess and test whether the user guess matches the value of `secret_number`\n",
    "while True:  # this is a loop that won't break until we choose to break it (i.e. there is nothing that will make it False)\n",
    "    guess = input('What is your guess? ')\n",
    "    if guess == secret_number:\n",
    "        break  # we haven't seen the break keyword before; it ends a loop and continues to run the next lines of code below the loop\n",
    "\n",
    "# After loop ends, print a congratulations message with the secret number       \n",
    "print(f'You guessed the secret number, {secret_number}')"
   ]
  },
  {
   "cell_type": "code",
   "execution_count": null,
   "id": "b26e83ee-b437-4bc9-b0e9-1093a1c3bd34",
   "metadata": {},
   "outputs": [],
   "source": [
    "# SKIP THIS\n",
    "# Last week I challenged you to write a for loop that prints a list of all the multiples of 7 that are less than 100\n",
    "# Do the same thing, but use an if statement instead of the range() function's step argument\n",
    "\n",
    "multiples = []\n",
    "for i in range(7, 101):\n",
    "    if i % 7 == 0:\n",
    "        multiples.append(i)\n",
    "print(multiples)"
   ]
  },
  {
   "cell_type": "markdown",
   "id": "cfe64530-e26b-414e-afbe-efa222e819cf",
   "metadata": {},
   "source": [
    "### If/Else"
   ]
  },
  {
   "cell_type": "code",
   "execution_count": null,
   "id": "8ec6feec-f022-4f57-a634-4438f100474c",
   "metadata": {},
   "outputs": [],
   "source": [
    "# If/Else example\n",
    "name = input(\"Enter your name:\")\n",
    "\n",
    "if name == \"Shelby\":\n",
    "    print(f'Hi {name}!')\n",
    "else:\n",
    "    print(f\"You aren't Shelby!\")"
   ]
  },
  {
   "cell_type": "markdown",
   "id": "ea5570fc-7588-4845-9c9c-5e3653377e45",
   "metadata": {},
   "source": [
    "**Dice Rolls**"
   ]
  },
  {
   "cell_type": "code",
   "execution_count": null,
   "id": "42ca7da3-6967-4fbb-8cc1-b7a0aaeeb66c",
   "metadata": {},
   "outputs": [],
   "source": [
    "# Another if/else example:\n",
    "# Simulate rolling two dice. If the sum of the dice is odd, you win. If even, you lose. \n",
    "\n",
    "# Do together:\n",
    "import random\n",
    "num1 = random.randint(1,6)\n",
    "num2 = random.randint(1,6)\n",
    "sum = num1 + num2\n",
    "\n",
    "# Exercise:\n",
    "if sum % 2 == 0:\n",
    "    print(f'{num1} + {num2} is {sum}')\n",
    "    print(\"Sorry, you lost!\")\n",
    "else:\n",
    "    print(f'{num1} + {num2} is {sum}')\n",
    "    print(\"You win!\")"
   ]
  },
  {
   "cell_type": "markdown",
   "id": "cfb9e35c-5b1d-4aac-a405-2f0cde2e9209",
   "metadata": {},
   "source": [
    "It's important to remember that \"else\" means \"in ALL other cases\". If we want to specify multiple conditions, we can use \"elif\" (\"else if\"). Technically, we do not need to use \"else\" at all if we don't want to; \"if\" and \"elif\" are sufficient unless you want a catch-all case."
   ]
  },
  {
   "cell_type": "markdown",
   "id": "18993675-6710-4547-ad46-a75782faa61c",
   "metadata": {},
   "source": [
    "### If/Elif/Else"
   ]
  },
  {
   "cell_type": "code",
   "execution_count": null,
   "id": "6b9660fc-7185-49be-b18f-416890e8f110",
   "metadata": {},
   "outputs": [],
   "source": [
    "# If/Elif/Else example\n",
    "day = input(\"What day is it?\").lower()\n",
    "\n",
    "if day in [\"monday\", \"tuesday\", \"wednesday\", \"thursday\"]:\n",
    "    print(\"Keep working hard!\")\n",
    "    \n",
    "elif day == \"friday\":\n",
    "    print(\"It's almost the weekend!\")\n",
    "    \n",
    "elif day in [\"saturday\", \"sunday\"]:\n",
    "    print(\"Have a great weekend!\")\n",
    "    \n",
    "else:  # in this case, we are specifying our catch-all case. If we didn't specify, people who didn't enter a proper day name would get no output. \n",
    "    # SHELBY: comment out this else to demonstrate this.\n",
    "    print(\"I don't know what day that is.\")"
   ]
  },
  {
   "cell_type": "code",
   "execution_count": null,
   "id": "f060525b-67d5-4e99-a688-0786391ee6ca",
   "metadata": {},
   "outputs": [],
   "source": [
    "# Do it yourself: come up with an example of an if/elif/else and share with the group. We will write it together.\n"
   ]
  },
  {
   "cell_type": "markdown",
   "id": "e8f8bd9f-aeaa-45c2-9af4-81a1357d75e1",
   "metadata": {
    "tags": []
   },
   "source": [
    "### Exercise: Check for Pallindromes"
   ]
  },
  {
   "cell_type": "code",
   "execution_count": null,
   "id": "9a2a93d0-341c-4fa6-9edf-1726f446c100",
   "metadata": {
    "tags": []
   },
   "outputs": [],
   "source": [
    "# Prabin's question from week 2 about writing a word backwards got me thinking about pallindromes. \n",
    "# Write code that will test whether a word is a pallindrome (i.e. is spelled the same forwards or backwards)\n",
    "# This can be done in 4 lines of code (maybe less?)\n",
    "# We actually don't need a loop to do this; we can get the word backwards with our string slicing trick...\n",
    "\n",
    "word = input(\"Enter a word:\").lower()  # account for case sensitivity\n",
    "pallindrome = False  # default value of pallindrome\n",
    "\n",
    "if word == word[::-1]:\n",
    "    pallindrome = True\n",
    "\n",
    "# implied else: pallindrome remains False\n",
    "\n",
    "if pallindrome == True:\n",
    "    print(f\"The word '{word}' is a pallindrome!\")\n",
    "else:\n",
    "    print(f\"The word '{word}' is not a pallindrome.\")\n",
    "\n",
    "# Some example pallindromes: racecar, madam, kayak"
   ]
  },
  {
   "cell_type": "code",
   "execution_count": null,
   "id": "1985aa42-ac17-4752-bc61-86389c318418",
   "metadata": {},
   "outputs": [],
   "source": [
    "# try it with a loop anyway (and no string slicing trick!)\n",
    "\n",
    "word = input(\"Enter a word:\").lower()  # Python is case-sensitive! If you don't add this method and the word starts with a capital letter, it may not correctly recognize a pallindrome.\n",
    "\n",
    "# Let's think about this on paper/on a whiteboard before we start coding. \n",
    "# What do we need to know? How will we structure our test?\n",
    "\n",
    "index = 0\n",
    "index_back = len(word) - 1\n",
    "pallindrome = True\n",
    "middle = len(word)/2\n",
    "# Word length can be either odd or even (i.e. there may or may not be a middle letter).\n",
    "# We'll be checking this value against an integer, so it should work for both cases.\n",
    "\n",
    "while index <= middle:\n",
    "    if word[index] == word[index_back]:\n",
    "        index = index + 1\n",
    "        index_back = index_back - 1\n",
    "    else:\n",
    "        pallindrome = False\n",
    "        break  # using the keyword \"break\" stops the loop and executes the rest of the code below\n",
    "\n",
    "if pallindrome == True:\n",
    "    print(f\"The word '{word}' is a pallindrome!\")\n",
    "else:\n",
    "    print(f\"The word '{word}' is not a pallindrome.\")\n",
    "\n",
    "# try both pallindromes and non-pallindromes, of even and odd lengths to make sure the code is working correctly"
   ]
  },
  {
   "cell_type": "markdown",
   "id": "e34466f5-8ff9-48d1-8847-805b3b73fd79",
   "metadata": {},
   "source": [
    "## Pallindromic phrases"
   ]
  },
  {
   "cell_type": "markdown",
   "id": "6ecb3feb-d250-46c3-b885-49612f60f322",
   "metadata": {},
   "source": [
    "Bonus: the code above does not work for phrases... but it could with a few tweaks and some help from the `string` module and the some of the string methods learned in week 2. Try it on your own!"
   ]
  },
  {
   "cell_type": "markdown",
   "id": "eb0234a6-1803-48b9-9c5e-7fdcffd07fc5",
   "metadata": {},
   "source": [
    "Next week, we will learn how to define custom functions. Here is a function I wrote called `pallindrome()` that solves the bonus problem described above:"
   ]
  },
  {
   "cell_type": "markdown",
   "id": "68731dcd-e7ce-4da4-bf15-be684faf45a3",
   "metadata": {
    "jp-MarkdownHeadingCollapsed": true,
    "tags": []
   },
   "source": [
    "### Hide this code: def pallindrome()"
   ]
  },
  {
   "cell_type": "code",
   "execution_count": null,
   "id": "494f7cc9-b24b-4c69-a8fc-07c78d6acd72",
   "metadata": {
    "tags": []
   },
   "outputs": [],
   "source": [
    "def pallindrome():\n",
    "    import string\n",
    "    \n",
    "    word = input(\"Enter a word or phrase:\")\n",
    "    word_stripped = word.lower().translate(str.maketrans('', '', string.punctuation)).replace(' ','')\n",
    "    # Make the characters all lowercase, remove punctuation, and use str.replace to remove the whitespace\n",
    "    \n",
    "    pallindrome = False\n",
    "    if word_stripped == word_stripped[::-1]:\n",
    "        pallindrome = True\n",
    "\n",
    "    if pallindrome == True:\n",
    "        print(f\"The phrase '{word}' is a pallindrome!\")\n",
    "    else:\n",
    "        print(f\"The phrase '{word}' is not a pallindrome.\")\n",
    "\n",
    "# Try this famous pallindrome to test: \n",
    "    # A man, a plan, a canal: Panama!\n",
    "# Other fun pallindromes: \n",
    "    # Was it a car or a cat I saw?\n",
    "    # Drab as a fool, aloof as a bard"
   ]
  }
 ],
 "metadata": {
  "kernelspec": {
   "display_name": "Python 3 (ipykernel)",
   "language": "python",
   "name": "python3"
  },
  "language_info": {
   "codemirror_mode": {
    "name": "ipython",
    "version": 3
   },
   "file_extension": ".py",
   "mimetype": "text/x-python",
   "name": "python",
   "nbconvert_exporter": "python",
   "pygments_lexer": "ipython3",
   "version": "3.11.5"
  }
 },
 "nbformat": 4,
 "nbformat_minor": 5
}
